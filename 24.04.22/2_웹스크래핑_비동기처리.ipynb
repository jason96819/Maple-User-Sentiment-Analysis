{
  "nbformat": 4,
  "nbformat_minor": 0,
  "metadata": {
    "colab": {
      "provenance": [],
      "authorship_tag": "ABX9TyPyhJPvdEuMQityE+3bf6vE",
      "include_colab_link": true
    },
    "kernelspec": {
      "name": "python3",
      "display_name": "Python 3"
    },
    "language_info": {
      "name": "python"
    }
  },
  "cells": [
    {
      "cell_type": "markdown",
      "metadata": {
        "id": "view-in-github",
        "colab_type": "text"
      },
      "source": [
        "<a href=\"https://colab.research.google.com/github/jason96819/Maple-User-Sentiment-Analysis/blob/main/24.04.22/2_%EC%9B%B9%EC%8A%A4%ED%81%AC%EB%9E%98%ED%95%91_%EB%B9%84%EB%8F%99%EA%B8%B0%EC%B2%98%EB%A6%AC.ipynb\" target=\"_parent\"><img src=\"https://colab.research.google.com/assets/colab-badge.svg\" alt=\"Open In Colab\"/></a>"
      ]
    },
    {
      "cell_type": "code",
      "source": [
        "from google.colab import drive\n",
        "drive.mount('/content/drive')"
      ],
      "metadata": {
        "colab": {
          "base_uri": "https://localhost:8080/"
        },
        "id": "NfZrUIrXS2wX",
        "outputId": "778b3974-916b-4cb7-9cef-3488a8cf2632"
      },
      "execution_count": null,
      "outputs": [
        {
          "output_type": "stream",
          "name": "stdout",
          "text": [
            "Mounted at /content/drive\n"
          ]
        }
      ]
    },
    {
      "cell_type": "code",
      "execution_count": null,
      "metadata": {
        "id": "7G3zC8n7NlCS"
      },
      "outputs": [],
      "source": [
        "import pandas as pd\n",
        "import numpy as np\n",
        "import asyncio\n",
        "import aiohttp\n",
        "from bs4 import BeautifulSoup\n",
        "from aiohttp import ClientSession\n",
        "import re"
      ]
    },
    {
      "cell_type": "code",
      "source": [
        "pip install nest_asyncio"
      ],
      "metadata": {
        "colab": {
          "base_uri": "https://localhost:8080/"
        },
        "id": "YVObb7WwOl7O",
        "outputId": "7c1c5b63-c4a1-40c5-d8e2-849beda2c58a"
      },
      "execution_count": null,
      "outputs": [
        {
          "output_type": "stream",
          "name": "stdout",
          "text": [
            "Requirement already satisfied: nest_asyncio in /usr/local/lib/python3.10/dist-packages (1.6.0)\n"
          ]
        }
      ]
    },
    {
      "cell_type": "code",
      "source": [
        "import nest_asyncio\n",
        "nest_asyncio.apply()"
      ],
      "metadata": {
        "id": "-WLNyFYnOogJ"
      },
      "execution_count": null,
      "outputs": []
    },
    {
      "cell_type": "code",
      "source": [
        "async def fetch(url, session):\n",
        "    async with session.get(url) as response:\n",
        "        content_type = response.headers.get('content-type')\n",
        "        charset = 'utf-8'\n",
        "        if content_type:\n",
        "            content_type, _, params = content_type.partition(';')\n",
        "            for param in params.split(';'):\n",
        "                key, _, value = param.strip().partition('=')\n",
        "                if key.lower() == 'charset':\n",
        "                    charset = value\n",
        "                    break\n",
        "        html_bytes = await response.content.read()\n",
        "        try:\n",
        "            html = html_bytes.decode(charset)\n",
        "        except UnicodeDecodeError:\n",
        "            html = html_bytes.decode('utf-8', errors='ignore')\n",
        "        return html\n",
        "\n",
        "async def scrape_inven(start, end, df):\n",
        "    async with ClientSession() as session:\n",
        "        tasks = []\n",
        "        for i in range(start, end):\n",
        "            url = f\"https://www.inven.co.kr/board/maple/5974/{i}\"\n",
        "            tasks.append(asyncio.ensure_future(fetch(url, session)))\n",
        "\n",
        "        responses = await asyncio.gather(*tasks)\n",
        "\n",
        "        for i, html in enumerate(responses):\n",
        "            bsObject = BeautifulSoup(html, \"html.parser\")\n",
        "\n",
        "            titles = bsObject.find('div', attrs={\"class\": \"articleTitle\"})\n",
        "            title = titles.text.strip() if titles else \"\"\n",
        "\n",
        "            dates = bsObject.find('div', attrs={\"class\": \"articleDate\"})\n",
        "            date = dates.text.strip() if dates else \"\"\n",
        "\n",
        "            content_div = bsObject.find('div', attrs={\"id\": \"powerbbsContent\"})\n",
        "            content = content_div.text.strip() if content_div else \"\"\n",
        "\n",
        "            reaction = title + ' ' + content\n",
        "\n",
        "            df.loc[len(df)] = [date, reaction]\n",
        "\n",
        "            if (i+1) % 100 == 0:\n",
        "                print(i+1)"
      ],
      "metadata": {
        "id": "N6-ExLKfNrWc"
      },
      "execution_count": null,
      "outputs": []
    },
    {
      "cell_type": "code",
      "source": [
        "def mk_df(start, end):\n",
        "    df = pd.DataFrame(columns=['Date', 'Reaction'])\n",
        "    asyncio.run(scrape_inven(start, end, df))\n",
        "    return df"
      ],
      "metadata": {
        "id": "KKDK-aMANrUR"
      },
      "execution_count": null,
      "outputs": []
    },
    {
      "cell_type": "code",
      "source": [
        "# 6/1    1591880 ~         25만 건\n",
        "# 6/30  1845247\n",
        "# 7/1    1845250 ~        30만\n",
        "# 7/31   2150812\n",
        "# 8/1     2150813 ~       21만 건\n",
        "# 8/31   2365436\n",
        "# 9/1     2365438 ~      18만 건\n",
        "# 9/30   2547611"
      ],
      "metadata": {
        "id": "pD8tzoBkQWFg"
      },
      "execution_count": null,
      "outputs": []
    },
    {
      "cell_type": "code",
      "source": [
        "def save_df(sp, ep, name):\n",
        "    df = mk_df(sp, ep)\n",
        "    df = df.replace('', pd.NA)\n",
        "    df = df.dropna()\n",
        "    df.reset_index(drop=True, inplace=True)\n",
        "    df.to_csv(f'./drive/MyDrive/data/{name}.csv', index=False, escapechar='\\\\')"
      ],
      "metadata": {
        "id": "HUtdRLFeb5GZ"
      },
      "execution_count": null,
      "outputs": []
    },
    {
      "cell_type": "markdown",
      "source": [
        "많은 시도 끝에 5,000개 단위 일 때 Colab의 RAM이 안터지는것을 확인.\n",
        "\n",
        "그리고 무료 코랩 특성상 런타임 12시간 이상이면 자동 종료되기때문에\n",
        "\n",
        "각각 5,000단위로 나누어서 스크랩."
      ],
      "metadata": {
        "id": "CLapKh4PeYcs"
      }
    },
    {
      "cell_type": "code",
      "source": [
        "save_df(1845250, 1850000, \"df1\")                            # 한 탭당 13 ~ 14분"
      ],
      "metadata": {
        "id": "4W2hlYrfcbwP"
      },
      "execution_count": null,
      "outputs": []
    },
    {
      "cell_type": "code",
      "source": [
        "save_df(1850001, 1855000, \"df2\")"
      ],
      "metadata": {
        "id": "0XOKZ4VMcqka"
      },
      "execution_count": null,
      "outputs": []
    },
    {
      "cell_type": "code",
      "source": [
        "save_df(1855001, 1860000, \"df3\")"
      ],
      "metadata": {
        "id": "PkTZZJwHcyx1"
      },
      "execution_count": null,
      "outputs": []
    },
    {
      "cell_type": "code",
      "source": [
        "save_df(1860001, 1865000, \"df4\")"
      ],
      "metadata": {
        "id": "07IDZJyUc3_y"
      },
      "execution_count": null,
      "outputs": []
    },
    {
      "cell_type": "code",
      "source": [
        "save_df(1865001, 1870000, \"df5\")"
      ],
      "metadata": {
        "id": "q16VcYbwc8E0"
      },
      "execution_count": null,
      "outputs": []
    },
    {
      "cell_type": "code",
      "source": [
        "save_df(1870001, 1875000, \"df6\")"
      ],
      "metadata": {
        "id": "_pUEYCVMdIro"
      },
      "execution_count": null,
      "outputs": []
    },
    {
      "cell_type": "code",
      "source": [
        "save_df(1875001, 1880000, \"df7\")"
      ],
      "metadata": {
        "id": "3uGzfpI7dIpP"
      },
      "execution_count": null,
      "outputs": []
    },
    {
      "cell_type": "code",
      "source": [
        "save_df(1880001, 1885000, \"df8\")"
      ],
      "metadata": {
        "id": "0MMos27rdIm_"
      },
      "execution_count": null,
      "outputs": []
    },
    {
      "cell_type": "code",
      "source": [
        "save_df(1885001, 1890000, \"df9\")"
      ],
      "metadata": {
        "id": "8WeckJ8ZdIki"
      },
      "execution_count": null,
      "outputs": []
    },
    {
      "cell_type": "code",
      "source": [
        "save_df(1890001, 1895000, \"df10\")"
      ],
      "metadata": {
        "id": "vUrvzVCadZJs"
      },
      "execution_count": null,
      "outputs": []
    },
    {
      "cell_type": "code",
      "source": [
        "save_df(1895001, 1900000, \"df11\")"
      ],
      "metadata": {
        "id": "HBEHmrkzdeT2"
      },
      "execution_count": null,
      "outputs": []
    },
    {
      "cell_type": "code",
      "source": [
        "save_df(1900001, 1905000, \"df12\")"
      ],
      "metadata": {
        "id": "MpQa720Fdkm4"
      },
      "execution_count": null,
      "outputs": []
    },
    {
      "cell_type": "code",
      "source": [
        "save_df(1905001, 1910000, \"df13\")"
      ],
      "metadata": {
        "id": "07y5qh28d4jU"
      },
      "execution_count": null,
      "outputs": []
    },
    {
      "cell_type": "code",
      "source": [
        "save_df(1910001, 1915000, \"df14\")"
      ],
      "metadata": {
        "id": "npvt_o1xd_LX"
      },
      "execution_count": null,
      "outputs": []
    },
    {
      "cell_type": "code",
      "source": [
        "save_df(1915001, 1920000, \"df15\")"
      ],
      "metadata": {
        "id": "6P-7GxVOeB3T"
      },
      "execution_count": null,
      "outputs": []
    },
    {
      "cell_type": "code",
      "source": [
        "save_df(1920001, 1925000, \"df16\")"
      ],
      "metadata": {
        "id": "tv_Cwjr3eE60"
      },
      "execution_count": null,
      "outputs": []
    },
    {
      "cell_type": "code",
      "source": [
        "save_df(1925001, 1930000, \"df17\")"
      ],
      "metadata": {
        "id": "0XPenB-geHvQ"
      },
      "execution_count": null,
      "outputs": []
    },
    {
      "cell_type": "code",
      "source": [
        "save_df(1930001, 1935000, \"df18\")"
      ],
      "metadata": {
        "id": "abr9RmqBeLP8"
      },
      "execution_count": null,
      "outputs": []
    },
    {
      "cell_type": "code",
      "source": [
        "save_df(1935001, 1940000, \"df19\")"
      ],
      "metadata": {
        "id": "Qf5ydtyHeN--"
      },
      "execution_count": null,
      "outputs": []
    },
    {
      "cell_type": "code",
      "source": [
        "save_df(1940001, 1945000, \"df20\")"
      ],
      "metadata": {
        "id": "KUAXvax4eQqi"
      },
      "execution_count": null,
      "outputs": []
    },
    {
      "cell_type": "code",
      "source": [
        "save_df(1945001, 1950000, \"df21\")"
      ],
      "metadata": {
        "id": "Y9R3AamMeTM0"
      },
      "execution_count": null,
      "outputs": []
    },
    {
      "cell_type": "code",
      "source": [
        "save_df(1950001, 1955000, \"df22\")"
      ],
      "metadata": {
        "id": "ySh9R49VeVbk"
      },
      "execution_count": null,
      "outputs": []
    },
    {
      "cell_type": "code",
      "source": [
        "save_df(1955001, 1960000, \"df23\")"
      ],
      "metadata": {
        "id": "3Sk8-aVxew6N"
      },
      "execution_count": null,
      "outputs": []
    },
    {
      "cell_type": "code",
      "source": [
        "save_df(1960001, 1965000, \"df24\")"
      ],
      "metadata": {
        "id": "nLTemkIUe0TN"
      },
      "execution_count": null,
      "outputs": []
    },
    {
      "cell_type": "code",
      "source": [
        "save_df(1965001, 1970000, \"df25\")"
      ],
      "metadata": {
        "id": "K4wgTUTje2oW"
      },
      "execution_count": null,
      "outputs": []
    },
    {
      "cell_type": "code",
      "source": [
        "save_df(1970001, 1975000, \"df26\")"
      ],
      "metadata": {
        "id": "b_CZ0WYbe5Ja"
      },
      "execution_count": null,
      "outputs": []
    },
    {
      "cell_type": "code",
      "source": [
        "save_df(1975001, 1980000, \"df27\")"
      ],
      "metadata": {
        "id": "3z7Sp2nCe75f"
      },
      "execution_count": null,
      "outputs": []
    },
    {
      "cell_type": "code",
      "source": [
        "save_df(1980001, 1985000, \"df28\")"
      ],
      "metadata": {
        "id": "GKfauiS4e-R9"
      },
      "execution_count": null,
      "outputs": []
    },
    {
      "cell_type": "code",
      "source": [
        "save_df(1985001, 1990000, \"df29\")"
      ],
      "metadata": {
        "id": "YRDlKKcVfAoQ"
      },
      "execution_count": null,
      "outputs": []
    },
    {
      "cell_type": "code",
      "source": [
        "save_df(1990001, 1995000, \"df30\")"
      ],
      "metadata": {
        "id": "LtpNMJnIfDKo"
      },
      "execution_count": null,
      "outputs": []
    },
    {
      "cell_type": "code",
      "source": [
        "save_df(1995001, 2000000, \"df31\")"
      ],
      "metadata": {
        "id": "Z7V_gtOQfF7T"
      },
      "execution_count": null,
      "outputs": []
    },
    {
      "cell_type": "code",
      "source": [
        "save_df(2000001, 2005000, \"df32\")"
      ],
      "metadata": {
        "id": "SF6HwUtpfboZ"
      },
      "execution_count": null,
      "outputs": []
    },
    {
      "cell_type": "code",
      "source": [
        "save_df(2005001, 2010000, \"df33\")"
      ],
      "metadata": {
        "id": "H_KMVZUffe8f"
      },
      "execution_count": null,
      "outputs": []
    },
    {
      "cell_type": "code",
      "source": [
        "save_df(2010001, 2015000, \"df34\")"
      ],
      "metadata": {
        "id": "VNXbq19Efja0"
      },
      "execution_count": null,
      "outputs": []
    },
    {
      "cell_type": "code",
      "source": [
        "save_df(2015001, 2020000, \"df35\")"
      ],
      "metadata": {
        "id": "7EQSrencfm3L"
      },
      "execution_count": null,
      "outputs": []
    },
    {
      "cell_type": "code",
      "source": [
        "save_df(2020001, 2025000, \"df36\")"
      ],
      "metadata": {
        "id": "y1bNjQy-fo9_"
      },
      "execution_count": null,
      "outputs": []
    },
    {
      "cell_type": "code",
      "source": [
        "save_df(2020001, 2025000, \"df37\")"
      ],
      "metadata": {
        "id": "_UOg8H3WfrSj"
      },
      "execution_count": null,
      "outputs": []
    },
    {
      "cell_type": "code",
      "source": [
        "save_df(2025001, 2030000, \"df38\")"
      ],
      "metadata": {
        "id": "Jphf0nt6ft6s"
      },
      "execution_count": null,
      "outputs": []
    },
    {
      "cell_type": "code",
      "source": [
        "save_df(2030001, 2035000, \"df39\")"
      ],
      "metadata": {
        "id": "XQVD67OafwVr"
      },
      "execution_count": null,
      "outputs": []
    },
    {
      "cell_type": "code",
      "source": [
        "save_df(2035001, 2040000, \"df40\")"
      ],
      "metadata": {
        "id": "QhNLBrdjfywa"
      },
      "execution_count": null,
      "outputs": []
    },
    {
      "cell_type": "code",
      "source": [
        "save_df(2040001, 2045000, \"df41\")"
      ],
      "metadata": {
        "id": "2KaY__16f0-N"
      },
      "execution_count": null,
      "outputs": []
    },
    {
      "cell_type": "code",
      "source": [
        "save_df(2040001, 2045000, \"df42\")"
      ],
      "metadata": {
        "id": "iAMgooF0f3Wm"
      },
      "execution_count": null,
      "outputs": []
    },
    {
      "cell_type": "code",
      "source": [
        "save_df(2045001, 2050000, \"df43\")"
      ],
      "metadata": {
        "id": "i8WP-N43giDx"
      },
      "execution_count": null,
      "outputs": []
    },
    {
      "cell_type": "code",
      "source": [
        "save_df(2050001, 2055000, \"df44\")"
      ],
      "metadata": {
        "id": "AQtzyt_pgkYd"
      },
      "execution_count": null,
      "outputs": []
    },
    {
      "cell_type": "code",
      "source": [
        "save_df(2055001, 2060000, \"df45\")"
      ],
      "metadata": {
        "id": "0UOycT-3gmvY"
      },
      "execution_count": null,
      "outputs": []
    },
    {
      "cell_type": "code",
      "source": [
        "save_df(2060001, 2065000, \"df46\")"
      ],
      "metadata": {
        "id": "fuNV6M4zgo4K"
      },
      "execution_count": null,
      "outputs": []
    },
    {
      "cell_type": "code",
      "source": [
        "save_df(2065001, 2070000, \"df47\")"
      ],
      "metadata": {
        "id": "y-yQrNz1grQL"
      },
      "execution_count": null,
      "outputs": []
    },
    {
      "cell_type": "code",
      "source": [
        "save_df(2070001, 2075000, \"df48\")"
      ],
      "metadata": {
        "id": "ZatRLj_Dgtmw"
      },
      "execution_count": null,
      "outputs": []
    },
    {
      "cell_type": "code",
      "source": [
        "save_df(2075001, 2080000, \"df49\")"
      ],
      "metadata": {
        "id": "6aO4p0HJgwOI"
      },
      "execution_count": null,
      "outputs": []
    },
    {
      "cell_type": "code",
      "source": [
        "save_df(2080001, 2085000, \"df50\")"
      ],
      "metadata": {
        "id": "3SmZPZ_1gzDc"
      },
      "execution_count": null,
      "outputs": []
    },
    {
      "cell_type": "code",
      "source": [
        "save_df(2085001, 2090000, \"df51\")"
      ],
      "metadata": {
        "id": "AsOJSuZ8g1js"
      },
      "execution_count": null,
      "outputs": []
    },
    {
      "cell_type": "code",
      "source": [
        "save_df(2090001, 2095000, \"df52\")"
      ],
      "metadata": {
        "id": "AMCsNVnDg3sN"
      },
      "execution_count": null,
      "outputs": []
    },
    {
      "cell_type": "code",
      "source": [
        "save_df(2095001, 2100000, \"df53\")"
      ],
      "metadata": {
        "id": "hmbt0zYvg6AQ"
      },
      "execution_count": null,
      "outputs": []
    },
    {
      "cell_type": "code",
      "source": [
        "save_df(2100001, 2105000, \"df54\")"
      ],
      "metadata": {
        "id": "Dz1DBqwgg873"
      },
      "execution_count": null,
      "outputs": []
    },
    {
      "cell_type": "code",
      "source": [
        "save_df(2105001, 2110000, \"df55\")"
      ],
      "metadata": {
        "id": "QfaQqU_jg_4Y"
      },
      "execution_count": null,
      "outputs": []
    },
    {
      "cell_type": "code",
      "source": [
        "save_df(2110001, 2115000, \"df56\")"
      ],
      "metadata": {
        "id": "ejpFqE8HhJvK"
      },
      "execution_count": null,
      "outputs": []
    },
    {
      "cell_type": "code",
      "source": [
        "save_df(2115001, 2120000, \"df57\")"
      ],
      "metadata": {
        "id": "Q4wBXcrqhJtJ"
      },
      "execution_count": null,
      "outputs": []
    },
    {
      "cell_type": "code",
      "source": [
        "save_df(2120001, 2125000, \"df58\")"
      ],
      "metadata": {
        "id": "EC1hAKHahJq6"
      },
      "execution_count": null,
      "outputs": []
    },
    {
      "cell_type": "code",
      "source": [
        "save_df(2125001, 2130000, \"df59\")"
      ],
      "metadata": {
        "id": "rey6YZkAhQP_"
      },
      "execution_count": null,
      "outputs": []
    },
    {
      "cell_type": "code",
      "source": [
        "save_df(2130001, 2135000, \"df60\")"
      ],
      "metadata": {
        "id": "ZLLlFX6WhQME"
      },
      "execution_count": null,
      "outputs": []
    },
    {
      "cell_type": "code",
      "source": [
        "save_df(2135001, 2140000, \"df61\")"
      ],
      "metadata": {
        "id": "NzH8xkWyhQJv"
      },
      "execution_count": null,
      "outputs": []
    },
    {
      "cell_type": "code",
      "source": [
        "save_df(2140001, 2145000, \"df62\")"
      ],
      "metadata": {
        "id": "C7P0jKJLhXcj"
      },
      "execution_count": null,
      "outputs": []
    },
    {
      "cell_type": "code",
      "source": [
        "save_df(2145001, 2150000, \"df63\")"
      ],
      "metadata": {
        "id": "Bx2bRwUjhXaC"
      },
      "execution_count": null,
      "outputs": []
    },
    {
      "cell_type": "code",
      "source": [
        "save_df(2150001, 2150812, \"df64\")               # 7월 데이터 수집 완료"
      ],
      "metadata": {
        "id": "32bXZSTBhXXu"
      },
      "execution_count": null,
      "outputs": []
    },
    {
      "cell_type": "markdown",
      "source": [
        "24 시간 걸린듯?\n",
        "\n",
        "이제 수집한 CSV파일을 하나의 DF로 만들어 보겠습니다.\n",
        "\n",
        "CSV 파일 위치 : \"./drive/MyDrive/data/df 1~64.csv\""
      ],
      "metadata": {
        "id": "wRYjJJBmus1d"
      }
    },
    {
      "cell_type": "code",
      "source": [
        "for i in range(1, 65):\n",
        "    globals()[f'df_{i}'] = pd.read_csv(f\"./drive/MyDrive/data/df{i}.csv\")"
      ],
      "metadata": {
        "id": "xvxSxYvDuujO"
      },
      "execution_count": null,
      "outputs": []
    },
    {
      "cell_type": "code",
      "source": [
        "result_df = pd.concat([globals()[f'df_{i}'] for i in range(1, 65)], ignore_index=True)\n",
        "result_df"
      ],
      "metadata": {
        "colab": {
          "base_uri": "https://localhost:8080/",
          "height": 423
        },
        "id": "F0dPVJyUvRRf",
        "outputId": "ca9367eb-1707-4a2d-a14a-eb7b9c65943a"
      },
      "execution_count": null,
      "outputs": [
        {
          "output_type": "execute_result",
          "data": {
            "text/plain": [
              "        Unnamed: 0              Date  \\\n",
              "0              0.0  2023-07-01 00:00   \n",
              "1              1.0  2023-07-01 00:00   \n",
              "2              2.0  2023-07-01 00:00   \n",
              "3              3.0  2023-07-01 00:00   \n",
              "4              4.0  2023-07-01 00:00   \n",
              "...            ...               ...   \n",
              "194056         NaN  2023-07-31 23:58   \n",
              "194057         NaN  2023-07-31 23:59   \n",
              "194058         NaN  2023-07-31 23:59   \n",
              "194059         NaN  2023-07-31 23:59   \n",
              "194060         NaN  2023-07-31 23:59   \n",
              "\n",
              "                                                 Reaction  \n",
              "0              메m 호영이 본섭보다 좋네 파초풍 방향키 방향으로 이동되게 난사하면 개 지림  \n",
              "1       건강한게 최고다 주보 일퀘가 고문 수준이네 완전...7년째 안걸리던 감기를 올해만 ...  \n",
              "2       메린이 코평좀 둘 중에 뭐가 나음?직업은 캡틴이고 캡틴 특징 약간 살리기 or 그냥...  \n",
              "3                            [속보] 2023년 하반기 서비스 시작 7월 스타트  \n",
              "4                              이제부터 야한거 올리면 캬루 딸딸?루콘 올릴거야  \n",
              "...                                                   ...  \n",
              "194056  세렌만 고평가되는게 아니라 요즘 메이플 문화가 그럼 그냥 어떤보스건 공통임그래서 메...  \n",
              "194057                  여름 진짜 싫어 하아.. 에어컨 틀어도 기력이 다 빠지네..  \n",
              "194058  근데 실명까고 커뮤하는데서 디시처럼 행동하냐 ㅋㅋㅋㅋㅋ 나bj면 고소 존나 할거 같...  \n",
              "194059                                       굿바이 7월 하이 8월  \n",
              "194060  근데 팡이가 보스클탐이랑 그런거 공개안하는이유 ㅈㄴ뻔한데 자기가 전섭1위라고 그렇게...  \n",
              "\n",
              "[194061 rows x 3 columns]"
            ],
            "text/html": [
              "\n",
              "  <div id=\"df-b0025ccc-f03b-4b1c-ac21-d869277a088e\" class=\"colab-df-container\">\n",
              "    <div>\n",
              "<style scoped>\n",
              "    .dataframe tbody tr th:only-of-type {\n",
              "        vertical-align: middle;\n",
              "    }\n",
              "\n",
              "    .dataframe tbody tr th {\n",
              "        vertical-align: top;\n",
              "    }\n",
              "\n",
              "    .dataframe thead th {\n",
              "        text-align: right;\n",
              "    }\n",
              "</style>\n",
              "<table border=\"1\" class=\"dataframe\">\n",
              "  <thead>\n",
              "    <tr style=\"text-align: right;\">\n",
              "      <th></th>\n",
              "      <th>Unnamed: 0</th>\n",
              "      <th>Date</th>\n",
              "      <th>Reaction</th>\n",
              "    </tr>\n",
              "  </thead>\n",
              "  <tbody>\n",
              "    <tr>\n",
              "      <th>0</th>\n",
              "      <td>0.0</td>\n",
              "      <td>2023-07-01 00:00</td>\n",
              "      <td>메m 호영이 본섭보다 좋네 파초풍 방향키 방향으로 이동되게 난사하면 개 지림</td>\n",
              "    </tr>\n",
              "    <tr>\n",
              "      <th>1</th>\n",
              "      <td>1.0</td>\n",
              "      <td>2023-07-01 00:00</td>\n",
              "      <td>건강한게 최고다 주보 일퀘가 고문 수준이네 완전...7년째 안걸리던 감기를 올해만 ...</td>\n",
              "    </tr>\n",
              "    <tr>\n",
              "      <th>2</th>\n",
              "      <td>2.0</td>\n",
              "      <td>2023-07-01 00:00</td>\n",
              "      <td>메린이 코평좀 둘 중에 뭐가 나음?직업은 캡틴이고 캡틴 특징 약간 살리기 or 그냥...</td>\n",
              "    </tr>\n",
              "    <tr>\n",
              "      <th>3</th>\n",
              "      <td>3.0</td>\n",
              "      <td>2023-07-01 00:00</td>\n",
              "      <td>[속보] 2023년 하반기 서비스 시작 7월 스타트</td>\n",
              "    </tr>\n",
              "    <tr>\n",
              "      <th>4</th>\n",
              "      <td>4.0</td>\n",
              "      <td>2023-07-01 00:00</td>\n",
              "      <td>이제부터 야한거 올리면 캬루 딸딸?루콘 올릴거야</td>\n",
              "    </tr>\n",
              "    <tr>\n",
              "      <th>...</th>\n",
              "      <td>...</td>\n",
              "      <td>...</td>\n",
              "      <td>...</td>\n",
              "    </tr>\n",
              "    <tr>\n",
              "      <th>194056</th>\n",
              "      <td>NaN</td>\n",
              "      <td>2023-07-31 23:58</td>\n",
              "      <td>세렌만 고평가되는게 아니라 요즘 메이플 문화가 그럼 그냥 어떤보스건 공통임그래서 메...</td>\n",
              "    </tr>\n",
              "    <tr>\n",
              "      <th>194057</th>\n",
              "      <td>NaN</td>\n",
              "      <td>2023-07-31 23:59</td>\n",
              "      <td>여름 진짜 싫어 하아.. 에어컨 틀어도 기력이 다 빠지네..</td>\n",
              "    </tr>\n",
              "    <tr>\n",
              "      <th>194058</th>\n",
              "      <td>NaN</td>\n",
              "      <td>2023-07-31 23:59</td>\n",
              "      <td>근데 실명까고 커뮤하는데서 디시처럼 행동하냐 ㅋㅋㅋㅋㅋ 나bj면 고소 존나 할거 같...</td>\n",
              "    </tr>\n",
              "    <tr>\n",
              "      <th>194059</th>\n",
              "      <td>NaN</td>\n",
              "      <td>2023-07-31 23:59</td>\n",
              "      <td>굿바이 7월 하이 8월</td>\n",
              "    </tr>\n",
              "    <tr>\n",
              "      <th>194060</th>\n",
              "      <td>NaN</td>\n",
              "      <td>2023-07-31 23:59</td>\n",
              "      <td>근데 팡이가 보스클탐이랑 그런거 공개안하는이유 ㅈㄴ뻔한데 자기가 전섭1위라고 그렇게...</td>\n",
              "    </tr>\n",
              "  </tbody>\n",
              "</table>\n",
              "<p>194061 rows × 3 columns</p>\n",
              "</div>\n",
              "    <div class=\"colab-df-buttons\">\n",
              "\n",
              "  <div class=\"colab-df-container\">\n",
              "    <button class=\"colab-df-convert\" onclick=\"convertToInteractive('df-b0025ccc-f03b-4b1c-ac21-d869277a088e')\"\n",
              "            title=\"Convert this dataframe to an interactive table.\"\n",
              "            style=\"display:none;\">\n",
              "\n",
              "  <svg xmlns=\"http://www.w3.org/2000/svg\" height=\"24px\" viewBox=\"0 -960 960 960\">\n",
              "    <path d=\"M120-120v-720h720v720H120Zm60-500h600v-160H180v160Zm220 220h160v-160H400v160Zm0 220h160v-160H400v160ZM180-400h160v-160H180v160Zm440 0h160v-160H620v160ZM180-180h160v-160H180v160Zm440 0h160v-160H620v160Z\"/>\n",
              "  </svg>\n",
              "    </button>\n",
              "\n",
              "  <style>\n",
              "    .colab-df-container {\n",
              "      display:flex;\n",
              "      gap: 12px;\n",
              "    }\n",
              "\n",
              "    .colab-df-convert {\n",
              "      background-color: #E8F0FE;\n",
              "      border: none;\n",
              "      border-radius: 50%;\n",
              "      cursor: pointer;\n",
              "      display: none;\n",
              "      fill: #1967D2;\n",
              "      height: 32px;\n",
              "      padding: 0 0 0 0;\n",
              "      width: 32px;\n",
              "    }\n",
              "\n",
              "    .colab-df-convert:hover {\n",
              "      background-color: #E2EBFA;\n",
              "      box-shadow: 0px 1px 2px rgba(60, 64, 67, 0.3), 0px 1px 3px 1px rgba(60, 64, 67, 0.15);\n",
              "      fill: #174EA6;\n",
              "    }\n",
              "\n",
              "    .colab-df-buttons div {\n",
              "      margin-bottom: 4px;\n",
              "    }\n",
              "\n",
              "    [theme=dark] .colab-df-convert {\n",
              "      background-color: #3B4455;\n",
              "      fill: #D2E3FC;\n",
              "    }\n",
              "\n",
              "    [theme=dark] .colab-df-convert:hover {\n",
              "      background-color: #434B5C;\n",
              "      box-shadow: 0px 1px 3px 1px rgba(0, 0, 0, 0.15);\n",
              "      filter: drop-shadow(0px 1px 2px rgba(0, 0, 0, 0.3));\n",
              "      fill: #FFFFFF;\n",
              "    }\n",
              "  </style>\n",
              "\n",
              "    <script>\n",
              "      const buttonEl =\n",
              "        document.querySelector('#df-b0025ccc-f03b-4b1c-ac21-d869277a088e button.colab-df-convert');\n",
              "      buttonEl.style.display =\n",
              "        google.colab.kernel.accessAllowed ? 'block' : 'none';\n",
              "\n",
              "      async function convertToInteractive(key) {\n",
              "        const element = document.querySelector('#df-b0025ccc-f03b-4b1c-ac21-d869277a088e');\n",
              "        const dataTable =\n",
              "          await google.colab.kernel.invokeFunction('convertToInteractive',\n",
              "                                                    [key], {});\n",
              "        if (!dataTable) return;\n",
              "\n",
              "        const docLinkHtml = 'Like what you see? Visit the ' +\n",
              "          '<a target=\"_blank\" href=https://colab.research.google.com/notebooks/data_table.ipynb>data table notebook</a>'\n",
              "          + ' to learn more about interactive tables.';\n",
              "        element.innerHTML = '';\n",
              "        dataTable['output_type'] = 'display_data';\n",
              "        await google.colab.output.renderOutput(dataTable, element);\n",
              "        const docLink = document.createElement('div');\n",
              "        docLink.innerHTML = docLinkHtml;\n",
              "        element.appendChild(docLink);\n",
              "      }\n",
              "    </script>\n",
              "  </div>\n",
              "\n",
              "\n",
              "<div id=\"df-efc88da3-dac9-4319-805b-d55edeef1193\">\n",
              "  <button class=\"colab-df-quickchart\" onclick=\"quickchart('df-efc88da3-dac9-4319-805b-d55edeef1193')\"\n",
              "            title=\"Suggest charts\"\n",
              "            style=\"display:none;\">\n",
              "\n",
              "<svg xmlns=\"http://www.w3.org/2000/svg\" height=\"24px\"viewBox=\"0 0 24 24\"\n",
              "     width=\"24px\">\n",
              "    <g>\n",
              "        <path d=\"M19 3H5c-1.1 0-2 .9-2 2v14c0 1.1.9 2 2 2h14c1.1 0 2-.9 2-2V5c0-1.1-.9-2-2-2zM9 17H7v-7h2v7zm4 0h-2V7h2v10zm4 0h-2v-4h2v4z\"/>\n",
              "    </g>\n",
              "</svg>\n",
              "  </button>\n",
              "\n",
              "<style>\n",
              "  .colab-df-quickchart {\n",
              "      --bg-color: #E8F0FE;\n",
              "      --fill-color: #1967D2;\n",
              "      --hover-bg-color: #E2EBFA;\n",
              "      --hover-fill-color: #174EA6;\n",
              "      --disabled-fill-color: #AAA;\n",
              "      --disabled-bg-color: #DDD;\n",
              "  }\n",
              "\n",
              "  [theme=dark] .colab-df-quickchart {\n",
              "      --bg-color: #3B4455;\n",
              "      --fill-color: #D2E3FC;\n",
              "      --hover-bg-color: #434B5C;\n",
              "      --hover-fill-color: #FFFFFF;\n",
              "      --disabled-bg-color: #3B4455;\n",
              "      --disabled-fill-color: #666;\n",
              "  }\n",
              "\n",
              "  .colab-df-quickchart {\n",
              "    background-color: var(--bg-color);\n",
              "    border: none;\n",
              "    border-radius: 50%;\n",
              "    cursor: pointer;\n",
              "    display: none;\n",
              "    fill: var(--fill-color);\n",
              "    height: 32px;\n",
              "    padding: 0;\n",
              "    width: 32px;\n",
              "  }\n",
              "\n",
              "  .colab-df-quickchart:hover {\n",
              "    background-color: var(--hover-bg-color);\n",
              "    box-shadow: 0 1px 2px rgba(60, 64, 67, 0.3), 0 1px 3px 1px rgba(60, 64, 67, 0.15);\n",
              "    fill: var(--button-hover-fill-color);\n",
              "  }\n",
              "\n",
              "  .colab-df-quickchart-complete:disabled,\n",
              "  .colab-df-quickchart-complete:disabled:hover {\n",
              "    background-color: var(--disabled-bg-color);\n",
              "    fill: var(--disabled-fill-color);\n",
              "    box-shadow: none;\n",
              "  }\n",
              "\n",
              "  .colab-df-spinner {\n",
              "    border: 2px solid var(--fill-color);\n",
              "    border-color: transparent;\n",
              "    border-bottom-color: var(--fill-color);\n",
              "    animation:\n",
              "      spin 1s steps(1) infinite;\n",
              "  }\n",
              "\n",
              "  @keyframes spin {\n",
              "    0% {\n",
              "      border-color: transparent;\n",
              "      border-bottom-color: var(--fill-color);\n",
              "      border-left-color: var(--fill-color);\n",
              "    }\n",
              "    20% {\n",
              "      border-color: transparent;\n",
              "      border-left-color: var(--fill-color);\n",
              "      border-top-color: var(--fill-color);\n",
              "    }\n",
              "    30% {\n",
              "      border-color: transparent;\n",
              "      border-left-color: var(--fill-color);\n",
              "      border-top-color: var(--fill-color);\n",
              "      border-right-color: var(--fill-color);\n",
              "    }\n",
              "    40% {\n",
              "      border-color: transparent;\n",
              "      border-right-color: var(--fill-color);\n",
              "      border-top-color: var(--fill-color);\n",
              "    }\n",
              "    60% {\n",
              "      border-color: transparent;\n",
              "      border-right-color: var(--fill-color);\n",
              "    }\n",
              "    80% {\n",
              "      border-color: transparent;\n",
              "      border-right-color: var(--fill-color);\n",
              "      border-bottom-color: var(--fill-color);\n",
              "    }\n",
              "    90% {\n",
              "      border-color: transparent;\n",
              "      border-bottom-color: var(--fill-color);\n",
              "    }\n",
              "  }\n",
              "</style>\n",
              "\n",
              "  <script>\n",
              "    async function quickchart(key) {\n",
              "      const quickchartButtonEl =\n",
              "        document.querySelector('#' + key + ' button');\n",
              "      quickchartButtonEl.disabled = true;  // To prevent multiple clicks.\n",
              "      quickchartButtonEl.classList.add('colab-df-spinner');\n",
              "      try {\n",
              "        const charts = await google.colab.kernel.invokeFunction(\n",
              "            'suggestCharts', [key], {});\n",
              "      } catch (error) {\n",
              "        console.error('Error during call to suggestCharts:', error);\n",
              "      }\n",
              "      quickchartButtonEl.classList.remove('colab-df-spinner');\n",
              "      quickchartButtonEl.classList.add('colab-df-quickchart-complete');\n",
              "    }\n",
              "    (() => {\n",
              "      let quickchartButtonEl =\n",
              "        document.querySelector('#df-efc88da3-dac9-4319-805b-d55edeef1193 button');\n",
              "      quickchartButtonEl.style.display =\n",
              "        google.colab.kernel.accessAllowed ? 'block' : 'none';\n",
              "    })();\n",
              "  </script>\n",
              "</div>\n",
              "\n",
              "  <div id=\"id_d5558a59-2bc4-4a83-a473-166f48590139\">\n",
              "    <style>\n",
              "      .colab-df-generate {\n",
              "        background-color: #E8F0FE;\n",
              "        border: none;\n",
              "        border-radius: 50%;\n",
              "        cursor: pointer;\n",
              "        display: none;\n",
              "        fill: #1967D2;\n",
              "        height: 32px;\n",
              "        padding: 0 0 0 0;\n",
              "        width: 32px;\n",
              "      }\n",
              "\n",
              "      .colab-df-generate:hover {\n",
              "        background-color: #E2EBFA;\n",
              "        box-shadow: 0px 1px 2px rgba(60, 64, 67, 0.3), 0px 1px 3px 1px rgba(60, 64, 67, 0.15);\n",
              "        fill: #174EA6;\n",
              "      }\n",
              "\n",
              "      [theme=dark] .colab-df-generate {\n",
              "        background-color: #3B4455;\n",
              "        fill: #D2E3FC;\n",
              "      }\n",
              "\n",
              "      [theme=dark] .colab-df-generate:hover {\n",
              "        background-color: #434B5C;\n",
              "        box-shadow: 0px 1px 3px 1px rgba(0, 0, 0, 0.15);\n",
              "        filter: drop-shadow(0px 1px 2px rgba(0, 0, 0, 0.3));\n",
              "        fill: #FFFFFF;\n",
              "      }\n",
              "    </style>\n",
              "    <button class=\"colab-df-generate\" onclick=\"generateWithVariable('result_df')\"\n",
              "            title=\"Generate code using this dataframe.\"\n",
              "            style=\"display:none;\">\n",
              "\n",
              "  <svg xmlns=\"http://www.w3.org/2000/svg\" height=\"24px\"viewBox=\"0 0 24 24\"\n",
              "       width=\"24px\">\n",
              "    <path d=\"M7,19H8.4L18.45,9,17,7.55,7,17.6ZM5,21V16.75L18.45,3.32a2,2,0,0,1,2.83,0l1.4,1.43a1.91,1.91,0,0,1,.58,1.4,1.91,1.91,0,0,1-.58,1.4L9.25,21ZM18.45,9,17,7.55Zm-12,3A5.31,5.31,0,0,0,4.9,8.1,5.31,5.31,0,0,0,1,6.5,5.31,5.31,0,0,0,4.9,4.9,5.31,5.31,0,0,0,6.5,1,5.31,5.31,0,0,0,8.1,4.9,5.31,5.31,0,0,0,12,6.5,5.46,5.46,0,0,0,6.5,12Z\"/>\n",
              "  </svg>\n",
              "    </button>\n",
              "    <script>\n",
              "      (() => {\n",
              "      const buttonEl =\n",
              "        document.querySelector('#id_d5558a59-2bc4-4a83-a473-166f48590139 button.colab-df-generate');\n",
              "      buttonEl.style.display =\n",
              "        google.colab.kernel.accessAllowed ? 'block' : 'none';\n",
              "\n",
              "      buttonEl.onclick = () => {\n",
              "        google.colab.notebook.generateWithVariable('result_df');\n",
              "      }\n",
              "      })();\n",
              "    </script>\n",
              "  </div>\n",
              "\n",
              "    </div>\n",
              "  </div>\n"
            ],
            "application/vnd.google.colaboratory.intrinsic+json": {
              "type": "dataframe",
              "variable_name": "result_df"
            }
          },
          "metadata": {},
          "execution_count": 23
        }
      ]
    },
    {
      "cell_type": "code",
      "source": [
        "result_df.to_csv(\"./drive/MyDrive/Colab_Notebooks/project/nexon/data/nexon_post_data_2307.csv\")"
      ],
      "metadata": {
        "id": "Ra74Fg-rv9G7"
      },
      "execution_count": null,
      "outputs": []
    },
    {
      "cell_type": "code",
      "source": [
        "result_df[result_df['Reaction'].str.contains('6차')]"
      ],
      "metadata": {
        "colab": {
          "base_uri": "https://localhost:8080/",
          "height": 423
        },
        "id": "-RfEchLnwVsn",
        "outputId": "6f0f6f7d-ee85-4b89-aaa3-5fa8b0bea924"
      },
      "execution_count": null,
      "outputs": [
        {
          "output_type": "execute_result",
          "data": {
            "text/plain": [
              "        Unnamed: 0              Date  \\\n",
              "48            48.0  2023-07-01 00:10   \n",
              "161          161.0  2023-07-01 00:38   \n",
              "275          275.0  2023-07-01 01:04   \n",
              "286          286.0  2023-07-01 01:05   \n",
              "398          398.0  2023-07-01 01:35   \n",
              "...            ...               ...   \n",
              "193991         NaN  2023-07-31 23:38   \n",
              "194010         NaN  2023-07-31 23:43   \n",
              "194024         NaN  2023-07-31 23:48   \n",
              "194043         NaN  2023-07-31 23:53   \n",
              "194055         NaN  2023-07-31 23:58   \n",
              "\n",
              "                                                 Reaction  \n",
              "48      7월 6일이나 7월13일부터 시작해도 하버 260 다 찍나? 지금 리부트로팬텀할지 ...  \n",
              "161     6차로 에픽둘둘로 해방이가능할것이다 뭐다 말이많던데 지금 17 레유 무기 사는것도 ...  \n",
              "275     원기형 제발 이번 기회 놓치지 말자 신이 음식 씹을 필요도 없이 믹서기에 갈아서 입...  \n",
              "286     지금256렙인데 6차본섭전까지 사냥없이 260가능한가요?? 현시점으로 256렙인데 ...  \n",
              "398     6차 전직 스킬들의 일러스트들을 보면 뭔가 딱딱하다고 느껴짐. 그 외의 컷신들은 뭔...  \n",
              "...                                                   ...  \n",
              "193991  메린이 하버 260은 진짜 쉽네용 하루 30분씩 일퀘, 몬파, exp만 했는데 벌써...  \n",
              "194010       6차처음엔 욕존나하더니 내입장에선 일단 갓패치쌔지는게 체감 잘되고 재획 개꿀잼됨  \n",
              "194024                          6차나오고 검마하니까 개재밋내 ㅋㅋ 딜잘드간다  \n",
              "194043  다들 메생에서한 제일 병신짓이 뭐야? 난 길마님이 듄더 먹자해주셧는데 더스크 보상방...  \n",
              "194055                         6차 사냥기 코어는 언제 나오냐 기대해도 되겠지  \n",
              "\n",
              "[18588 rows x 3 columns]"
            ],
            "text/html": [
              "\n",
              "  <div id=\"df-d99358e8-a8dc-42f2-95d7-7ba11aa992b9\" class=\"colab-df-container\">\n",
              "    <div>\n",
              "<style scoped>\n",
              "    .dataframe tbody tr th:only-of-type {\n",
              "        vertical-align: middle;\n",
              "    }\n",
              "\n",
              "    .dataframe tbody tr th {\n",
              "        vertical-align: top;\n",
              "    }\n",
              "\n",
              "    .dataframe thead th {\n",
              "        text-align: right;\n",
              "    }\n",
              "</style>\n",
              "<table border=\"1\" class=\"dataframe\">\n",
              "  <thead>\n",
              "    <tr style=\"text-align: right;\">\n",
              "      <th></th>\n",
              "      <th>Unnamed: 0</th>\n",
              "      <th>Date</th>\n",
              "      <th>Reaction</th>\n",
              "    </tr>\n",
              "  </thead>\n",
              "  <tbody>\n",
              "    <tr>\n",
              "      <th>48</th>\n",
              "      <td>48.0</td>\n",
              "      <td>2023-07-01 00:10</td>\n",
              "      <td>7월 6일이나 7월13일부터 시작해도 하버 260 다 찍나? 지금 리부트로팬텀할지 ...</td>\n",
              "    </tr>\n",
              "    <tr>\n",
              "      <th>161</th>\n",
              "      <td>161.0</td>\n",
              "      <td>2023-07-01 00:38</td>\n",
              "      <td>6차로 에픽둘둘로 해방이가능할것이다 뭐다 말이많던데 지금 17 레유 무기 사는것도 ...</td>\n",
              "    </tr>\n",
              "    <tr>\n",
              "      <th>275</th>\n",
              "      <td>275.0</td>\n",
              "      <td>2023-07-01 01:04</td>\n",
              "      <td>원기형 제발 이번 기회 놓치지 말자 신이 음식 씹을 필요도 없이 믹서기에 갈아서 입...</td>\n",
              "    </tr>\n",
              "    <tr>\n",
              "      <th>286</th>\n",
              "      <td>286.0</td>\n",
              "      <td>2023-07-01 01:05</td>\n",
              "      <td>지금256렙인데 6차본섭전까지 사냥없이 260가능한가요?? 현시점으로 256렙인데 ...</td>\n",
              "    </tr>\n",
              "    <tr>\n",
              "      <th>398</th>\n",
              "      <td>398.0</td>\n",
              "      <td>2023-07-01 01:35</td>\n",
              "      <td>6차 전직 스킬들의 일러스트들을 보면 뭔가 딱딱하다고 느껴짐. 그 외의 컷신들은 뭔...</td>\n",
              "    </tr>\n",
              "    <tr>\n",
              "      <th>...</th>\n",
              "      <td>...</td>\n",
              "      <td>...</td>\n",
              "      <td>...</td>\n",
              "    </tr>\n",
              "    <tr>\n",
              "      <th>193991</th>\n",
              "      <td>NaN</td>\n",
              "      <td>2023-07-31 23:38</td>\n",
              "      <td>메린이 하버 260은 진짜 쉽네용 하루 30분씩 일퀘, 몬파, exp만 했는데 벌써...</td>\n",
              "    </tr>\n",
              "    <tr>\n",
              "      <th>194010</th>\n",
              "      <td>NaN</td>\n",
              "      <td>2023-07-31 23:43</td>\n",
              "      <td>6차처음엔 욕존나하더니 내입장에선 일단 갓패치쌔지는게 체감 잘되고 재획 개꿀잼됨</td>\n",
              "    </tr>\n",
              "    <tr>\n",
              "      <th>194024</th>\n",
              "      <td>NaN</td>\n",
              "      <td>2023-07-31 23:48</td>\n",
              "      <td>6차나오고 검마하니까 개재밋내 ㅋㅋ 딜잘드간다</td>\n",
              "    </tr>\n",
              "    <tr>\n",
              "      <th>194043</th>\n",
              "      <td>NaN</td>\n",
              "      <td>2023-07-31 23:53</td>\n",
              "      <td>다들 메생에서한 제일 병신짓이 뭐야? 난 길마님이 듄더 먹자해주셧는데 더스크 보상방...</td>\n",
              "    </tr>\n",
              "    <tr>\n",
              "      <th>194055</th>\n",
              "      <td>NaN</td>\n",
              "      <td>2023-07-31 23:58</td>\n",
              "      <td>6차 사냥기 코어는 언제 나오냐 기대해도 되겠지</td>\n",
              "    </tr>\n",
              "  </tbody>\n",
              "</table>\n",
              "<p>18588 rows × 3 columns</p>\n",
              "</div>\n",
              "    <div class=\"colab-df-buttons\">\n",
              "\n",
              "  <div class=\"colab-df-container\">\n",
              "    <button class=\"colab-df-convert\" onclick=\"convertToInteractive('df-d99358e8-a8dc-42f2-95d7-7ba11aa992b9')\"\n",
              "            title=\"Convert this dataframe to an interactive table.\"\n",
              "            style=\"display:none;\">\n",
              "\n",
              "  <svg xmlns=\"http://www.w3.org/2000/svg\" height=\"24px\" viewBox=\"0 -960 960 960\">\n",
              "    <path d=\"M120-120v-720h720v720H120Zm60-500h600v-160H180v160Zm220 220h160v-160H400v160Zm0 220h160v-160H400v160ZM180-400h160v-160H180v160Zm440 0h160v-160H620v160ZM180-180h160v-160H180v160Zm440 0h160v-160H620v160Z\"/>\n",
              "  </svg>\n",
              "    </button>\n",
              "\n",
              "  <style>\n",
              "    .colab-df-container {\n",
              "      display:flex;\n",
              "      gap: 12px;\n",
              "    }\n",
              "\n",
              "    .colab-df-convert {\n",
              "      background-color: #E8F0FE;\n",
              "      border: none;\n",
              "      border-radius: 50%;\n",
              "      cursor: pointer;\n",
              "      display: none;\n",
              "      fill: #1967D2;\n",
              "      height: 32px;\n",
              "      padding: 0 0 0 0;\n",
              "      width: 32px;\n",
              "    }\n",
              "\n",
              "    .colab-df-convert:hover {\n",
              "      background-color: #E2EBFA;\n",
              "      box-shadow: 0px 1px 2px rgba(60, 64, 67, 0.3), 0px 1px 3px 1px rgba(60, 64, 67, 0.15);\n",
              "      fill: #174EA6;\n",
              "    }\n",
              "\n",
              "    .colab-df-buttons div {\n",
              "      margin-bottom: 4px;\n",
              "    }\n",
              "\n",
              "    [theme=dark] .colab-df-convert {\n",
              "      background-color: #3B4455;\n",
              "      fill: #D2E3FC;\n",
              "    }\n",
              "\n",
              "    [theme=dark] .colab-df-convert:hover {\n",
              "      background-color: #434B5C;\n",
              "      box-shadow: 0px 1px 3px 1px rgba(0, 0, 0, 0.15);\n",
              "      filter: drop-shadow(0px 1px 2px rgba(0, 0, 0, 0.3));\n",
              "      fill: #FFFFFF;\n",
              "    }\n",
              "  </style>\n",
              "\n",
              "    <script>\n",
              "      const buttonEl =\n",
              "        document.querySelector('#df-d99358e8-a8dc-42f2-95d7-7ba11aa992b9 button.colab-df-convert');\n",
              "      buttonEl.style.display =\n",
              "        google.colab.kernel.accessAllowed ? 'block' : 'none';\n",
              "\n",
              "      async function convertToInteractive(key) {\n",
              "        const element = document.querySelector('#df-d99358e8-a8dc-42f2-95d7-7ba11aa992b9');\n",
              "        const dataTable =\n",
              "          await google.colab.kernel.invokeFunction('convertToInteractive',\n",
              "                                                    [key], {});\n",
              "        if (!dataTable) return;\n",
              "\n",
              "        const docLinkHtml = 'Like what you see? Visit the ' +\n",
              "          '<a target=\"_blank\" href=https://colab.research.google.com/notebooks/data_table.ipynb>data table notebook</a>'\n",
              "          + ' to learn more about interactive tables.';\n",
              "        element.innerHTML = '';\n",
              "        dataTable['output_type'] = 'display_data';\n",
              "        await google.colab.output.renderOutput(dataTable, element);\n",
              "        const docLink = document.createElement('div');\n",
              "        docLink.innerHTML = docLinkHtml;\n",
              "        element.appendChild(docLink);\n",
              "      }\n",
              "    </script>\n",
              "  </div>\n",
              "\n",
              "\n",
              "<div id=\"df-3ea6b330-0c96-4d4d-8bef-b27dccd31a00\">\n",
              "  <button class=\"colab-df-quickchart\" onclick=\"quickchart('df-3ea6b330-0c96-4d4d-8bef-b27dccd31a00')\"\n",
              "            title=\"Suggest charts\"\n",
              "            style=\"display:none;\">\n",
              "\n",
              "<svg xmlns=\"http://www.w3.org/2000/svg\" height=\"24px\"viewBox=\"0 0 24 24\"\n",
              "     width=\"24px\">\n",
              "    <g>\n",
              "        <path d=\"M19 3H5c-1.1 0-2 .9-2 2v14c0 1.1.9 2 2 2h14c1.1 0 2-.9 2-2V5c0-1.1-.9-2-2-2zM9 17H7v-7h2v7zm4 0h-2V7h2v10zm4 0h-2v-4h2v4z\"/>\n",
              "    </g>\n",
              "</svg>\n",
              "  </button>\n",
              "\n",
              "<style>\n",
              "  .colab-df-quickchart {\n",
              "      --bg-color: #E8F0FE;\n",
              "      --fill-color: #1967D2;\n",
              "      --hover-bg-color: #E2EBFA;\n",
              "      --hover-fill-color: #174EA6;\n",
              "      --disabled-fill-color: #AAA;\n",
              "      --disabled-bg-color: #DDD;\n",
              "  }\n",
              "\n",
              "  [theme=dark] .colab-df-quickchart {\n",
              "      --bg-color: #3B4455;\n",
              "      --fill-color: #D2E3FC;\n",
              "      --hover-bg-color: #434B5C;\n",
              "      --hover-fill-color: #FFFFFF;\n",
              "      --disabled-bg-color: #3B4455;\n",
              "      --disabled-fill-color: #666;\n",
              "  }\n",
              "\n",
              "  .colab-df-quickchart {\n",
              "    background-color: var(--bg-color);\n",
              "    border: none;\n",
              "    border-radius: 50%;\n",
              "    cursor: pointer;\n",
              "    display: none;\n",
              "    fill: var(--fill-color);\n",
              "    height: 32px;\n",
              "    padding: 0;\n",
              "    width: 32px;\n",
              "  }\n",
              "\n",
              "  .colab-df-quickchart:hover {\n",
              "    background-color: var(--hover-bg-color);\n",
              "    box-shadow: 0 1px 2px rgba(60, 64, 67, 0.3), 0 1px 3px 1px rgba(60, 64, 67, 0.15);\n",
              "    fill: var(--button-hover-fill-color);\n",
              "  }\n",
              "\n",
              "  .colab-df-quickchart-complete:disabled,\n",
              "  .colab-df-quickchart-complete:disabled:hover {\n",
              "    background-color: var(--disabled-bg-color);\n",
              "    fill: var(--disabled-fill-color);\n",
              "    box-shadow: none;\n",
              "  }\n",
              "\n",
              "  .colab-df-spinner {\n",
              "    border: 2px solid var(--fill-color);\n",
              "    border-color: transparent;\n",
              "    border-bottom-color: var(--fill-color);\n",
              "    animation:\n",
              "      spin 1s steps(1) infinite;\n",
              "  }\n",
              "\n",
              "  @keyframes spin {\n",
              "    0% {\n",
              "      border-color: transparent;\n",
              "      border-bottom-color: var(--fill-color);\n",
              "      border-left-color: var(--fill-color);\n",
              "    }\n",
              "    20% {\n",
              "      border-color: transparent;\n",
              "      border-left-color: var(--fill-color);\n",
              "      border-top-color: var(--fill-color);\n",
              "    }\n",
              "    30% {\n",
              "      border-color: transparent;\n",
              "      border-left-color: var(--fill-color);\n",
              "      border-top-color: var(--fill-color);\n",
              "      border-right-color: var(--fill-color);\n",
              "    }\n",
              "    40% {\n",
              "      border-color: transparent;\n",
              "      border-right-color: var(--fill-color);\n",
              "      border-top-color: var(--fill-color);\n",
              "    }\n",
              "    60% {\n",
              "      border-color: transparent;\n",
              "      border-right-color: var(--fill-color);\n",
              "    }\n",
              "    80% {\n",
              "      border-color: transparent;\n",
              "      border-right-color: var(--fill-color);\n",
              "      border-bottom-color: var(--fill-color);\n",
              "    }\n",
              "    90% {\n",
              "      border-color: transparent;\n",
              "      border-bottom-color: var(--fill-color);\n",
              "    }\n",
              "  }\n",
              "</style>\n",
              "\n",
              "  <script>\n",
              "    async function quickchart(key) {\n",
              "      const quickchartButtonEl =\n",
              "        document.querySelector('#' + key + ' button');\n",
              "      quickchartButtonEl.disabled = true;  // To prevent multiple clicks.\n",
              "      quickchartButtonEl.classList.add('colab-df-spinner');\n",
              "      try {\n",
              "        const charts = await google.colab.kernel.invokeFunction(\n",
              "            'suggestCharts', [key], {});\n",
              "      } catch (error) {\n",
              "        console.error('Error during call to suggestCharts:', error);\n",
              "      }\n",
              "      quickchartButtonEl.classList.remove('colab-df-spinner');\n",
              "      quickchartButtonEl.classList.add('colab-df-quickchart-complete');\n",
              "    }\n",
              "    (() => {\n",
              "      let quickchartButtonEl =\n",
              "        document.querySelector('#df-3ea6b330-0c96-4d4d-8bef-b27dccd31a00 button');\n",
              "      quickchartButtonEl.style.display =\n",
              "        google.colab.kernel.accessAllowed ? 'block' : 'none';\n",
              "    })();\n",
              "  </script>\n",
              "</div>\n",
              "\n",
              "    </div>\n",
              "  </div>\n"
            ],
            "application/vnd.google.colaboratory.intrinsic+json": {
              "type": "dataframe",
              "repr_error": "0"
            }
          },
          "metadata": {},
          "execution_count": 25
        }
      ]
    },
    {
      "cell_type": "markdown",
      "source": [
        "8월꺼도 할지 안할지 고민\n",
        "\n",
        "근데 아마 할듯"
      ],
      "metadata": {
        "id": "I7wjyMh7x4nU"
      }
    }
  ]
}