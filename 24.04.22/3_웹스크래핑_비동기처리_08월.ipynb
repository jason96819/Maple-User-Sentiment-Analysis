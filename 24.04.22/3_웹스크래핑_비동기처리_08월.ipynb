{
  "nbformat": 4,
  "nbformat_minor": 0,
  "metadata": {
    "colab": {
      "provenance": [],
      "mount_file_id": "1pQnU9cUuqotPPYDdfXN0FCuBjhCSM26K",
      "authorship_tag": "ABX9TyPCjw6csD1SSffp4mbV9fPj",
      "include_colab_link": true
    },
    "kernelspec": {
      "name": "python3",
      "display_name": "Python 3"
    },
    "language_info": {
      "name": "python"
    }
  },
  "cells": [
    {
      "cell_type": "markdown",
      "metadata": {
        "id": "view-in-github",
        "colab_type": "text"
      },
      "source": [
        "<a href=\"https://colab.research.google.com/github/jason96819/Maple-User-Sentiment-Analysis/blob/main/24.04.22/3_%EC%9B%B9%EC%8A%A4%ED%81%AC%EB%9E%98%ED%95%91_%EB%B9%84%EB%8F%99%EA%B8%B0%EC%B2%98%EB%A6%AC_08%EC%9B%94.ipynb\" target=\"_parent\"><img src=\"https://colab.research.google.com/assets/colab-badge.svg\" alt=\"Open In Colab\"/></a>"
      ]
    },
    {
      "cell_type": "code",
      "source": [
        "from google.colab import drive\n",
        "drive.mount('/content/drive')"
      ],
      "metadata": {
        "colab": {
          "base_uri": "https://localhost:8080/"
        },
        "id": "NfZrUIrXS2wX",
        "outputId": "5ff0a8a1-a7d5-4cf8-a03a-a5ca674eb271"
      },
      "execution_count": null,
      "outputs": [
        {
          "output_type": "stream",
          "name": "stdout",
          "text": [
            "Drive already mounted at /content/drive; to attempt to forcibly remount, call drive.mount(\"/content/drive\", force_remount=True).\n"
          ]
        }
      ]
    },
    {
      "cell_type": "code",
      "execution_count": null,
      "metadata": {
        "id": "7G3zC8n7NlCS"
      },
      "outputs": [],
      "source": [
        "import pandas as pd\n",
        "import numpy as np\n",
        "import asyncio\n",
        "import aiohttp\n",
        "from bs4 import BeautifulSoup\n",
        "from aiohttp import ClientSession\n",
        "import re"
      ]
    },
    {
      "cell_type": "code",
      "source": [
        "pip install nest_asyncio"
      ],
      "metadata": {
        "colab": {
          "base_uri": "https://localhost:8080/"
        },
        "id": "YVObb7WwOl7O",
        "outputId": "286d5b90-3298-4d55-9bae-40d749ad2784"
      },
      "execution_count": null,
      "outputs": [
        {
          "output_type": "stream",
          "name": "stdout",
          "text": [
            "Requirement already satisfied: nest_asyncio in /usr/local/lib/python3.10/dist-packages (1.6.0)\n"
          ]
        }
      ]
    },
    {
      "cell_type": "code",
      "source": [
        "import nest_asyncio\n",
        "nest_asyncio.apply()"
      ],
      "metadata": {
        "id": "-WLNyFYnOogJ"
      },
      "execution_count": null,
      "outputs": []
    },
    {
      "cell_type": "code",
      "source": [
        "async def fetch(url, session):\n",
        "    async with session.get(url) as response:\n",
        "        content_type = response.headers.get('content-type')\n",
        "        charset = 'utf-8'\n",
        "        if content_type:\n",
        "            content_type, _, params = content_type.partition(';')\n",
        "            for param in params.split(';'):\n",
        "                key, _, value = param.strip().partition('=')\n",
        "                if key.lower() == 'charset':\n",
        "                    charset = value\n",
        "                    break\n",
        "        html_bytes = await response.content.read()\n",
        "        try:\n",
        "            html = html_bytes.decode(charset)\n",
        "        except UnicodeDecodeError:\n",
        "            html = html_bytes.decode('utf-8', errors='ignore')\n",
        "        return html\n",
        "\n",
        "async def scrape_inven(start, end, df):\n",
        "    async with ClientSession() as session:\n",
        "        tasks = []\n",
        "        for i in range(start, end):\n",
        "            url = f\"https://www.inven.co.kr/board/maple/5974/{i}\"\n",
        "            tasks.append(asyncio.ensure_future(fetch(url, session)))\n",
        "\n",
        "        responses = await asyncio.gather(*tasks)\n",
        "\n",
        "        for i, html in enumerate(responses):\n",
        "            bsObject = BeautifulSoup(html, \"html.parser\")\n",
        "\n",
        "            titles = bsObject.find('div', attrs={\"class\": \"articleTitle\"})\n",
        "            title = titles.text.strip() if titles else \"\"\n",
        "\n",
        "            dates = bsObject.find('div', attrs={\"class\": \"articleDate\"})\n",
        "            date = dates.text.strip() if dates else \"\"\n",
        "\n",
        "            content_div = bsObject.find('div', attrs={\"id\": \"powerbbsContent\"})\n",
        "            content = content_div.text.strip() if content_div else \"\"\n",
        "\n",
        "            reaction = title + ' ' + content\n",
        "\n",
        "            df.loc[len(df)] = [date, reaction]\n",
        "\n",
        "            if (i+1) % 100 == 0:\n",
        "                print(i+1)"
      ],
      "metadata": {
        "id": "N6-ExLKfNrWc"
      },
      "execution_count": null,
      "outputs": []
    },
    {
      "cell_type": "code",
      "source": [
        "def mk_df(start, end):\n",
        "    df = pd.DataFrame(columns=['Date', 'Reaction'])\n",
        "    asyncio.run(scrape_inven(start, end, df))\n",
        "    return df"
      ],
      "metadata": {
        "id": "KKDK-aMANrUR"
      },
      "execution_count": null,
      "outputs": []
    },
    {
      "cell_type": "code",
      "source": [
        "# 6/1    1591880 ~         25만 건\n",
        "# 6/30  1845247\n",
        "# 7/1    1845250 ~        30만\n",
        "# 7/31   2150812\n",
        "# 8/1     2150813 ~       21만 건\n",
        "# 8/31   2365436\n",
        "# 9/1     2365438 ~      18만 건\n",
        "# 9/30   2547611"
      ],
      "metadata": {
        "id": "pD8tzoBkQWFg"
      },
      "execution_count": null,
      "outputs": []
    },
    {
      "cell_type": "code",
      "source": [
        "def save_df(sp, ep, name):\n",
        "    df = mk_df(sp, ep)\n",
        "    df = df.replace('', pd.NA)\n",
        "    df = df.dropna()\n",
        "    df.reset_index(drop=True, inplace=True)\n",
        "    df.to_csv(f'./drive/MyDrive/Colab_Notebooks/project/nexon/data2/{name}.csv', index=False, escapechar='\\\\')"
      ],
      "metadata": {
        "id": "HUtdRLFeb5GZ"
      },
      "execution_count": null,
      "outputs": []
    },
    {
      "cell_type": "markdown",
      "source": [
        "많은 시도 끝에 5,000개 단위 일 때 Colab의 RAM이 안터지는것을 확인.\n",
        "\n",
        "그리고 무료 코랩 특성상 런타임 12시간 이상이면 자동 종료되기때문에\n",
        "\n",
        "각각 5,000단위로 나누어서 스크랩."
      ],
      "metadata": {
        "id": "CLapKh4PeYcs"
      }
    },
    {
      "cell_type": "code",
      "source": [
        "save_df(2150813, 2155000, \"df1\")                            # 한 탭당 13 ~ 14분             2024년 4월 26일 13:40 시작"
      ],
      "metadata": {
        "id": "4W2hlYrfcbwP"
      },
      "execution_count": null,
      "outputs": []
    },
    {
      "cell_type": "code",
      "source": [
        "save_df(2155001, 2160000, \"df2\")"
      ],
      "metadata": {
        "id": "0XOKZ4VMcqka"
      },
      "execution_count": null,
      "outputs": []
    },
    {
      "cell_type": "code",
      "source": [
        "save_df(2160001, 2165000, \"df3\")"
      ],
      "metadata": {
        "id": "PkTZZJwHcyx1"
      },
      "execution_count": null,
      "outputs": []
    },
    {
      "cell_type": "code",
      "source": [
        "save_df(2165001, 2170000, \"df4\")"
      ],
      "metadata": {
        "id": "07IDZJyUc3_y"
      },
      "execution_count": null,
      "outputs": []
    },
    {
      "cell_type": "code",
      "source": [
        "save_df(2170001, 2175000, \"df5\")"
      ],
      "metadata": {
        "id": "q16VcYbwc8E0"
      },
      "execution_count": null,
      "outputs": []
    },
    {
      "cell_type": "code",
      "source": [
        "save_df(2175001, 2180000, \"df6\")"
      ],
      "metadata": {
        "id": "_pUEYCVMdIro"
      },
      "execution_count": null,
      "outputs": []
    },
    {
      "cell_type": "code",
      "source": [
        "save_df(2180001, 2185000, \"df7\")"
      ],
      "metadata": {
        "id": "3uGzfpI7dIpP"
      },
      "execution_count": null,
      "outputs": []
    },
    {
      "cell_type": "code",
      "source": [
        "save_df(2185001, 2190000, \"df8\")"
      ],
      "metadata": {
        "id": "0MMos27rdIm_"
      },
      "execution_count": null,
      "outputs": []
    },
    {
      "cell_type": "code",
      "source": [
        "save_df(2190001, 2195000, \"df9\")"
      ],
      "metadata": {
        "id": "8WeckJ8ZdIki"
      },
      "execution_count": null,
      "outputs": []
    },
    {
      "cell_type": "code",
      "source": [
        "save_df(2195001, 2200000, \"df10\")"
      ],
      "metadata": {
        "id": "vUrvzVCadZJs"
      },
      "execution_count": null,
      "outputs": []
    },
    {
      "cell_type": "code",
      "source": [
        "save_df(2200001, 2205000, \"df11\")"
      ],
      "metadata": {
        "id": "HBEHmrkzdeT2"
      },
      "execution_count": null,
      "outputs": []
    },
    {
      "cell_type": "code",
      "source": [
        "save_df(2205001, 2210000, \"df12\")"
      ],
      "metadata": {
        "id": "MpQa720Fdkm4"
      },
      "execution_count": null,
      "outputs": []
    },
    {
      "cell_type": "code",
      "source": [
        "save_df(2210001, 2215000, \"df13\")"
      ],
      "metadata": {
        "id": "07y5qh28d4jU"
      },
      "execution_count": null,
      "outputs": []
    },
    {
      "cell_type": "code",
      "source": [
        "save_df(2215001, 2220000, \"df14\")"
      ],
      "metadata": {
        "id": "npvt_o1xd_LX"
      },
      "execution_count": null,
      "outputs": []
    },
    {
      "cell_type": "code",
      "source": [
        "save_df(2220001, 2225000, \"df15\")"
      ],
      "metadata": {
        "id": "6P-7GxVOeB3T"
      },
      "execution_count": null,
      "outputs": []
    },
    {
      "cell_type": "code",
      "source": [
        "save_df(2225001, 2230000, \"df16\")"
      ],
      "metadata": {
        "id": "tv_Cwjr3eE60"
      },
      "execution_count": null,
      "outputs": []
    },
    {
      "cell_type": "code",
      "source": [
        "save_df(2230001, 2235000, \"df17\")"
      ],
      "metadata": {
        "id": "0XPenB-geHvQ"
      },
      "execution_count": null,
      "outputs": []
    },
    {
      "cell_type": "code",
      "source": [
        "save_df(2235001, 2240000, \"df18\")"
      ],
      "metadata": {
        "id": "abr9RmqBeLP8"
      },
      "execution_count": null,
      "outputs": []
    },
    {
      "cell_type": "code",
      "source": [
        "save_df(2240001, 2245000, \"df19\")"
      ],
      "metadata": {
        "id": "Qf5ydtyHeN--"
      },
      "execution_count": null,
      "outputs": []
    },
    {
      "cell_type": "code",
      "source": [
        "save_df(2245001, 2250000, \"df20\")"
      ],
      "metadata": {
        "id": "KUAXvax4eQqi"
      },
      "execution_count": null,
      "outputs": []
    },
    {
      "cell_type": "code",
      "source": [
        "save_df(2250001, 2255000, \"df21\")"
      ],
      "metadata": {
        "id": "Y9R3AamMeTM0"
      },
      "execution_count": null,
      "outputs": []
    },
    {
      "cell_type": "code",
      "source": [
        "save_df(2255001, 2260000, \"df22\")"
      ],
      "metadata": {
        "id": "ySh9R49VeVbk"
      },
      "execution_count": null,
      "outputs": []
    },
    {
      "cell_type": "code",
      "source": [
        "save_df(2260001, 2265000, \"df23\")"
      ],
      "metadata": {
        "id": "3Sk8-aVxew6N"
      },
      "execution_count": null,
      "outputs": []
    },
    {
      "cell_type": "code",
      "source": [
        "save_df(2265001, 2270000, \"df24\")"
      ],
      "metadata": {
        "id": "nLTemkIUe0TN"
      },
      "execution_count": null,
      "outputs": []
    },
    {
      "cell_type": "code",
      "source": [
        "save_df(2270001, 2275000, \"df25\")"
      ],
      "metadata": {
        "id": "K4wgTUTje2oW"
      },
      "execution_count": null,
      "outputs": []
    },
    {
      "cell_type": "code",
      "source": [
        "save_df(2275001, 2280000, \"df26\")"
      ],
      "metadata": {
        "id": "b_CZ0WYbe5Ja"
      },
      "execution_count": null,
      "outputs": []
    },
    {
      "cell_type": "code",
      "source": [
        "save_df(2280001, 2285000, \"df27\")"
      ],
      "metadata": {
        "id": "3z7Sp2nCe75f"
      },
      "execution_count": null,
      "outputs": []
    },
    {
      "cell_type": "code",
      "source": [
        "save_df(2285001, 2290000, \"df28\")"
      ],
      "metadata": {
        "id": "GKfauiS4e-R9"
      },
      "execution_count": null,
      "outputs": []
    },
    {
      "cell_type": "code",
      "source": [
        "save_df(2290001, 2295000, \"df29\")"
      ],
      "metadata": {
        "id": "YRDlKKcVfAoQ"
      },
      "execution_count": null,
      "outputs": []
    },
    {
      "cell_type": "code",
      "source": [
        "save_df(2295001, 2300000, \"df30\")"
      ],
      "metadata": {
        "id": "LtpNMJnIfDKo"
      },
      "execution_count": null,
      "outputs": []
    },
    {
      "cell_type": "code",
      "source": [
        "save_df(2300001, 2305000, \"df31\")"
      ],
      "metadata": {
        "id": "Z7V_gtOQfF7T"
      },
      "execution_count": null,
      "outputs": []
    },
    {
      "cell_type": "code",
      "source": [
        "save_df(2305001, 2310000, \"df32\")"
      ],
      "metadata": {
        "id": "SF6HwUtpfboZ"
      },
      "execution_count": null,
      "outputs": []
    },
    {
      "cell_type": "code",
      "source": [
        "save_df(2310001, 2315000, \"df33\")"
      ],
      "metadata": {
        "id": "H_KMVZUffe8f"
      },
      "execution_count": null,
      "outputs": []
    },
    {
      "cell_type": "code",
      "source": [
        "save_df(2315001, 2320000, \"df34\")"
      ],
      "metadata": {
        "id": "VNXbq19Efja0"
      },
      "execution_count": null,
      "outputs": []
    },
    {
      "cell_type": "code",
      "source": [
        "save_df(2320001, 2325000, \"df35\")"
      ],
      "metadata": {
        "id": "7EQSrencfm3L"
      },
      "execution_count": null,
      "outputs": []
    },
    {
      "cell_type": "code",
      "source": [
        "save_df(2325001, 2330000, \"df36\")"
      ],
      "metadata": {
        "id": "y1bNjQy-fo9_"
      },
      "execution_count": null,
      "outputs": []
    },
    {
      "cell_type": "code",
      "source": [
        "save_df(2330001, 2335000, \"df37\")"
      ],
      "metadata": {
        "id": "_UOg8H3WfrSj"
      },
      "execution_count": null,
      "outputs": []
    },
    {
      "cell_type": "code",
      "source": [
        "save_df(2335001, 2340000, \"df38\")"
      ],
      "metadata": {
        "id": "Jphf0nt6ft6s"
      },
      "execution_count": null,
      "outputs": []
    },
    {
      "cell_type": "code",
      "source": [
        "save_df(2340001, 2345000, \"df39\")"
      ],
      "metadata": {
        "id": "XQVD67OafwVr"
      },
      "execution_count": null,
      "outputs": []
    },
    {
      "cell_type": "code",
      "source": [
        "save_df(2345001, 2350000, \"df40\")"
      ],
      "metadata": {
        "id": "QhNLBrdjfywa"
      },
      "execution_count": null,
      "outputs": []
    },
    {
      "cell_type": "code",
      "source": [
        "save_df(2350001, 2355000, \"df41\")"
      ],
      "metadata": {
        "id": "2KaY__16f0-N"
      },
      "execution_count": null,
      "outputs": []
    },
    {
      "cell_type": "code",
      "source": [
        "save_df(2355001, 2360000, \"df42\")"
      ],
      "metadata": {
        "id": "iAMgooF0f3Wm"
      },
      "execution_count": null,
      "outputs": []
    },
    {
      "cell_type": "code",
      "source": [
        "save_df(2355001, 2360000, \"df43\")"
      ],
      "metadata": {
        "id": "i8WP-N43giDx"
      },
      "execution_count": null,
      "outputs": []
    },
    {
      "cell_type": "code",
      "source": [
        "save_df(2360001, 2365436, \"df44\")"
      ],
      "metadata": {
        "id": "AQtzyt_pgkYd"
      },
      "execution_count": null,
      "outputs": []
    },
    {
      "cell_type": "code",
      "source": [],
      "metadata": {
        "id": "1EDxgZL4swvq"
      },
      "execution_count": null,
      "outputs": []
    },
    {
      "cell_type": "code",
      "source": [],
      "metadata": {
        "id": "JOLAJpXwswtX"
      },
      "execution_count": null,
      "outputs": []
    },
    {
      "cell_type": "code",
      "source": [],
      "metadata": {
        "id": "0aSsBqERswpP"
      },
      "execution_count": null,
      "outputs": []
    },
    {
      "cell_type": "markdown",
      "source": [
        "2024년 4월 27일 01:20 종료\n",
        "\n",
        "\n",
        "이제 수집한 CSV파일을 하나의 DF로 만들어 보겠습니다.\n",
        "\n",
        "CSV 파일 위치 : \"./drive/MyDrive/Colab_Notebooks/project/nexon/data2/ 1 ~ 45.csv\""
      ],
      "metadata": {
        "id": "wRYjJJBmus1d"
      }
    },
    {
      "cell_type": "code",
      "source": [
        "for i in range(1, 45):\n",
        "    globals()[f'df_{i}'] = pd.read_csv(f\"./drive/MyDrive/Colab_Notebooks/project/nexon/data2/df{i}.csv\")"
      ],
      "metadata": {
        "id": "xvxSxYvDuujO"
      },
      "execution_count": null,
      "outputs": []
    },
    {
      "cell_type": "code",
      "source": [
        "result_df = pd.concat([globals()[f'df_{i}'] for i in range(1, 45)], ignore_index=True)\n",
        "result_df"
      ],
      "metadata": {
        "colab": {
          "base_uri": "https://localhost:8080/",
          "height": 423
        },
        "id": "F0dPVJyUvRRf",
        "outputId": "8d4568de-a98d-4ff9-e312-388680cd9188"
      },
      "execution_count": null,
      "outputs": [
        {
          "output_type": "execute_result",
          "data": {
            "text/plain": [
              "        Unnamed: 0              Date  \\\n",
              "0              0.0  2023-08-01 00:00   \n",
              "1              1.0  2023-08-01 00:00   \n",
              "2              2.0  2023-08-01 00:00   \n",
              "3              3.0  2023-08-01 00:00   \n",
              "4              4.0  2023-08-01 00:00   \n",
              "...            ...               ...   \n",
              "140576         NaN  2023-08-31 23:58   \n",
              "140577         NaN  2023-08-31 23:58   \n",
              "140578         NaN  2023-08-31 23:58   \n",
              "140579         NaN  2023-08-31 23:59   \n",
              "140580         NaN  2023-08-31 23:59   \n",
              "\n",
              "                                                 Reaction  \n",
              "0       익몬 파티짜면 좀 미안하네 260 다 받아서 갔다가 4극딜인가 까지 가서 고통받은 ...  \n",
              "1                                    호호호호 똥글 이나 보세요 ㅈ밥련드라  \n",
              "2       스토리 칼로스 뭔데 이리 쎄냐? 당연히 스토리니까 자빱이겠지하고 사냥셋팅 그대로 갔...  \n",
              "3       솔직히 가장 만렙 빠르게 찍을 것 같은 녀석 주스만 마시고 280은 족히 넘겼을 녀석..  \n",
              "4       자꾸 비아그라 두고가는 손님 있는데 이거뭐냐 편돌인데 같은시간대(10시쯤)에 3번인...  \n",
              "...                                                   ...  \n",
              "140576                         가성비 직업 닉네임 팝니다 눈감고보면 비슷합니다  \n",
              "140577                 귀여운 닉 아니영 << 많관부!! 현재 5만 입찰중 많관부!!  \n",
              "140578                                       받 2ㅊ ㄹㅈㄱ ㄹㅈㄱ  \n",
              "140579                            리레 5렙 효과 머임? 17초 120%??  \n",
              "140580  버닝썬 < 닉 3만원에 올렸고 나머지 s급 이상 닉도 팝니다. 버닝썬 <<< 닉 3...  \n",
              "\n",
              "[140581 rows x 3 columns]"
            ],
            "text/html": [
              "\n",
              "  <div id=\"df-cc9e5175-d303-4ecb-9d36-2c638a4bd74c\" class=\"colab-df-container\">\n",
              "    <div>\n",
              "<style scoped>\n",
              "    .dataframe tbody tr th:only-of-type {\n",
              "        vertical-align: middle;\n",
              "    }\n",
              "\n",
              "    .dataframe tbody tr th {\n",
              "        vertical-align: top;\n",
              "    }\n",
              "\n",
              "    .dataframe thead th {\n",
              "        text-align: right;\n",
              "    }\n",
              "</style>\n",
              "<table border=\"1\" class=\"dataframe\">\n",
              "  <thead>\n",
              "    <tr style=\"text-align: right;\">\n",
              "      <th></th>\n",
              "      <th>Unnamed: 0</th>\n",
              "      <th>Date</th>\n",
              "      <th>Reaction</th>\n",
              "    </tr>\n",
              "  </thead>\n",
              "  <tbody>\n",
              "    <tr>\n",
              "      <th>0</th>\n",
              "      <td>0.0</td>\n",
              "      <td>2023-08-01 00:00</td>\n",
              "      <td>익몬 파티짜면 좀 미안하네 260 다 받아서 갔다가 4극딜인가 까지 가서 고통받은 ...</td>\n",
              "    </tr>\n",
              "    <tr>\n",
              "      <th>1</th>\n",
              "      <td>1.0</td>\n",
              "      <td>2023-08-01 00:00</td>\n",
              "      <td>호호호호 똥글 이나 보세요 ㅈ밥련드라</td>\n",
              "    </tr>\n",
              "    <tr>\n",
              "      <th>2</th>\n",
              "      <td>2.0</td>\n",
              "      <td>2023-08-01 00:00</td>\n",
              "      <td>스토리 칼로스 뭔데 이리 쎄냐? 당연히 스토리니까 자빱이겠지하고 사냥셋팅 그대로 갔...</td>\n",
              "    </tr>\n",
              "    <tr>\n",
              "      <th>3</th>\n",
              "      <td>3.0</td>\n",
              "      <td>2023-08-01 00:00</td>\n",
              "      <td>솔직히 가장 만렙 빠르게 찍을 것 같은 녀석 주스만 마시고 280은 족히 넘겼을 녀석..</td>\n",
              "    </tr>\n",
              "    <tr>\n",
              "      <th>4</th>\n",
              "      <td>4.0</td>\n",
              "      <td>2023-08-01 00:00</td>\n",
              "      <td>자꾸 비아그라 두고가는 손님 있는데 이거뭐냐 편돌인데 같은시간대(10시쯤)에 3번인...</td>\n",
              "    </tr>\n",
              "    <tr>\n",
              "      <th>...</th>\n",
              "      <td>...</td>\n",
              "      <td>...</td>\n",
              "      <td>...</td>\n",
              "    </tr>\n",
              "    <tr>\n",
              "      <th>140576</th>\n",
              "      <td>NaN</td>\n",
              "      <td>2023-08-31 23:58</td>\n",
              "      <td>가성비 직업 닉네임 팝니다 눈감고보면 비슷합니다</td>\n",
              "    </tr>\n",
              "    <tr>\n",
              "      <th>140577</th>\n",
              "      <td>NaN</td>\n",
              "      <td>2023-08-31 23:58</td>\n",
              "      <td>귀여운 닉 아니영 &lt;&lt; 많관부!! 현재 5만 입찰중 많관부!!</td>\n",
              "    </tr>\n",
              "    <tr>\n",
              "      <th>140578</th>\n",
              "      <td>NaN</td>\n",
              "      <td>2023-08-31 23:58</td>\n",
              "      <td>받 2ㅊ ㄹㅈㄱ ㄹㅈㄱ</td>\n",
              "    </tr>\n",
              "    <tr>\n",
              "      <th>140579</th>\n",
              "      <td>NaN</td>\n",
              "      <td>2023-08-31 23:59</td>\n",
              "      <td>리레 5렙 효과 머임? 17초 120%??</td>\n",
              "    </tr>\n",
              "    <tr>\n",
              "      <th>140580</th>\n",
              "      <td>NaN</td>\n",
              "      <td>2023-08-31 23:59</td>\n",
              "      <td>버닝썬 &lt; 닉 3만원에 올렸고 나머지 s급 이상 닉도 팝니다. 버닝썬 &lt;&lt;&lt; 닉 3...</td>\n",
              "    </tr>\n",
              "  </tbody>\n",
              "</table>\n",
              "<p>140581 rows × 3 columns</p>\n",
              "</div>\n",
              "    <div class=\"colab-df-buttons\">\n",
              "\n",
              "  <div class=\"colab-df-container\">\n",
              "    <button class=\"colab-df-convert\" onclick=\"convertToInteractive('df-cc9e5175-d303-4ecb-9d36-2c638a4bd74c')\"\n",
              "            title=\"Convert this dataframe to an interactive table.\"\n",
              "            style=\"display:none;\">\n",
              "\n",
              "  <svg xmlns=\"http://www.w3.org/2000/svg\" height=\"24px\" viewBox=\"0 -960 960 960\">\n",
              "    <path d=\"M120-120v-720h720v720H120Zm60-500h600v-160H180v160Zm220 220h160v-160H400v160Zm0 220h160v-160H400v160ZM180-400h160v-160H180v160Zm440 0h160v-160H620v160ZM180-180h160v-160H180v160Zm440 0h160v-160H620v160Z\"/>\n",
              "  </svg>\n",
              "    </button>\n",
              "\n",
              "  <style>\n",
              "    .colab-df-container {\n",
              "      display:flex;\n",
              "      gap: 12px;\n",
              "    }\n",
              "\n",
              "    .colab-df-convert {\n",
              "      background-color: #E8F0FE;\n",
              "      border: none;\n",
              "      border-radius: 50%;\n",
              "      cursor: pointer;\n",
              "      display: none;\n",
              "      fill: #1967D2;\n",
              "      height: 32px;\n",
              "      padding: 0 0 0 0;\n",
              "      width: 32px;\n",
              "    }\n",
              "\n",
              "    .colab-df-convert:hover {\n",
              "      background-color: #E2EBFA;\n",
              "      box-shadow: 0px 1px 2px rgba(60, 64, 67, 0.3), 0px 1px 3px 1px rgba(60, 64, 67, 0.15);\n",
              "      fill: #174EA6;\n",
              "    }\n",
              "\n",
              "    .colab-df-buttons div {\n",
              "      margin-bottom: 4px;\n",
              "    }\n",
              "\n",
              "    [theme=dark] .colab-df-convert {\n",
              "      background-color: #3B4455;\n",
              "      fill: #D2E3FC;\n",
              "    }\n",
              "\n",
              "    [theme=dark] .colab-df-convert:hover {\n",
              "      background-color: #434B5C;\n",
              "      box-shadow: 0px 1px 3px 1px rgba(0, 0, 0, 0.15);\n",
              "      filter: drop-shadow(0px 1px 2px rgba(0, 0, 0, 0.3));\n",
              "      fill: #FFFFFF;\n",
              "    }\n",
              "  </style>\n",
              "\n",
              "    <script>\n",
              "      const buttonEl =\n",
              "        document.querySelector('#df-cc9e5175-d303-4ecb-9d36-2c638a4bd74c button.colab-df-convert');\n",
              "      buttonEl.style.display =\n",
              "        google.colab.kernel.accessAllowed ? 'block' : 'none';\n",
              "\n",
              "      async function convertToInteractive(key) {\n",
              "        const element = document.querySelector('#df-cc9e5175-d303-4ecb-9d36-2c638a4bd74c');\n",
              "        const dataTable =\n",
              "          await google.colab.kernel.invokeFunction('convertToInteractive',\n",
              "                                                    [key], {});\n",
              "        if (!dataTable) return;\n",
              "\n",
              "        const docLinkHtml = 'Like what you see? Visit the ' +\n",
              "          '<a target=\"_blank\" href=https://colab.research.google.com/notebooks/data_table.ipynb>data table notebook</a>'\n",
              "          + ' to learn more about interactive tables.';\n",
              "        element.innerHTML = '';\n",
              "        dataTable['output_type'] = 'display_data';\n",
              "        await google.colab.output.renderOutput(dataTable, element);\n",
              "        const docLink = document.createElement('div');\n",
              "        docLink.innerHTML = docLinkHtml;\n",
              "        element.appendChild(docLink);\n",
              "      }\n",
              "    </script>\n",
              "  </div>\n",
              "\n",
              "\n",
              "<div id=\"df-5c21f39f-f54d-46af-904b-e5830b51bbc6\">\n",
              "  <button class=\"colab-df-quickchart\" onclick=\"quickchart('df-5c21f39f-f54d-46af-904b-e5830b51bbc6')\"\n",
              "            title=\"Suggest charts\"\n",
              "            style=\"display:none;\">\n",
              "\n",
              "<svg xmlns=\"http://www.w3.org/2000/svg\" height=\"24px\"viewBox=\"0 0 24 24\"\n",
              "     width=\"24px\">\n",
              "    <g>\n",
              "        <path d=\"M19 3H5c-1.1 0-2 .9-2 2v14c0 1.1.9 2 2 2h14c1.1 0 2-.9 2-2V5c0-1.1-.9-2-2-2zM9 17H7v-7h2v7zm4 0h-2V7h2v10zm4 0h-2v-4h2v4z\"/>\n",
              "    </g>\n",
              "</svg>\n",
              "  </button>\n",
              "\n",
              "<style>\n",
              "  .colab-df-quickchart {\n",
              "      --bg-color: #E8F0FE;\n",
              "      --fill-color: #1967D2;\n",
              "      --hover-bg-color: #E2EBFA;\n",
              "      --hover-fill-color: #174EA6;\n",
              "      --disabled-fill-color: #AAA;\n",
              "      --disabled-bg-color: #DDD;\n",
              "  }\n",
              "\n",
              "  [theme=dark] .colab-df-quickchart {\n",
              "      --bg-color: #3B4455;\n",
              "      --fill-color: #D2E3FC;\n",
              "      --hover-bg-color: #434B5C;\n",
              "      --hover-fill-color: #FFFFFF;\n",
              "      --disabled-bg-color: #3B4455;\n",
              "      --disabled-fill-color: #666;\n",
              "  }\n",
              "\n",
              "  .colab-df-quickchart {\n",
              "    background-color: var(--bg-color);\n",
              "    border: none;\n",
              "    border-radius: 50%;\n",
              "    cursor: pointer;\n",
              "    display: none;\n",
              "    fill: var(--fill-color);\n",
              "    height: 32px;\n",
              "    padding: 0;\n",
              "    width: 32px;\n",
              "  }\n",
              "\n",
              "  .colab-df-quickchart:hover {\n",
              "    background-color: var(--hover-bg-color);\n",
              "    box-shadow: 0 1px 2px rgba(60, 64, 67, 0.3), 0 1px 3px 1px rgba(60, 64, 67, 0.15);\n",
              "    fill: var(--button-hover-fill-color);\n",
              "  }\n",
              "\n",
              "  .colab-df-quickchart-complete:disabled,\n",
              "  .colab-df-quickchart-complete:disabled:hover {\n",
              "    background-color: var(--disabled-bg-color);\n",
              "    fill: var(--disabled-fill-color);\n",
              "    box-shadow: none;\n",
              "  }\n",
              "\n",
              "  .colab-df-spinner {\n",
              "    border: 2px solid var(--fill-color);\n",
              "    border-color: transparent;\n",
              "    border-bottom-color: var(--fill-color);\n",
              "    animation:\n",
              "      spin 1s steps(1) infinite;\n",
              "  }\n",
              "\n",
              "  @keyframes spin {\n",
              "    0% {\n",
              "      border-color: transparent;\n",
              "      border-bottom-color: var(--fill-color);\n",
              "      border-left-color: var(--fill-color);\n",
              "    }\n",
              "    20% {\n",
              "      border-color: transparent;\n",
              "      border-left-color: var(--fill-color);\n",
              "      border-top-color: var(--fill-color);\n",
              "    }\n",
              "    30% {\n",
              "      border-color: transparent;\n",
              "      border-left-color: var(--fill-color);\n",
              "      border-top-color: var(--fill-color);\n",
              "      border-right-color: var(--fill-color);\n",
              "    }\n",
              "    40% {\n",
              "      border-color: transparent;\n",
              "      border-right-color: var(--fill-color);\n",
              "      border-top-color: var(--fill-color);\n",
              "    }\n",
              "    60% {\n",
              "      border-color: transparent;\n",
              "      border-right-color: var(--fill-color);\n",
              "    }\n",
              "    80% {\n",
              "      border-color: transparent;\n",
              "      border-right-color: var(--fill-color);\n",
              "      border-bottom-color: var(--fill-color);\n",
              "    }\n",
              "    90% {\n",
              "      border-color: transparent;\n",
              "      border-bottom-color: var(--fill-color);\n",
              "    }\n",
              "  }\n",
              "</style>\n",
              "\n",
              "  <script>\n",
              "    async function quickchart(key) {\n",
              "      const quickchartButtonEl =\n",
              "        document.querySelector('#' + key + ' button');\n",
              "      quickchartButtonEl.disabled = true;  // To prevent multiple clicks.\n",
              "      quickchartButtonEl.classList.add('colab-df-spinner');\n",
              "      try {\n",
              "        const charts = await google.colab.kernel.invokeFunction(\n",
              "            'suggestCharts', [key], {});\n",
              "      } catch (error) {\n",
              "        console.error('Error during call to suggestCharts:', error);\n",
              "      }\n",
              "      quickchartButtonEl.classList.remove('colab-df-spinner');\n",
              "      quickchartButtonEl.classList.add('colab-df-quickchart-complete');\n",
              "    }\n",
              "    (() => {\n",
              "      let quickchartButtonEl =\n",
              "        document.querySelector('#df-5c21f39f-f54d-46af-904b-e5830b51bbc6 button');\n",
              "      quickchartButtonEl.style.display =\n",
              "        google.colab.kernel.accessAllowed ? 'block' : 'none';\n",
              "    })();\n",
              "  </script>\n",
              "</div>\n",
              "\n",
              "  <div id=\"id_b8d44098-609e-4eb5-85e0-6544818dd220\">\n",
              "    <style>\n",
              "      .colab-df-generate {\n",
              "        background-color: #E8F0FE;\n",
              "        border: none;\n",
              "        border-radius: 50%;\n",
              "        cursor: pointer;\n",
              "        display: none;\n",
              "        fill: #1967D2;\n",
              "        height: 32px;\n",
              "        padding: 0 0 0 0;\n",
              "        width: 32px;\n",
              "      }\n",
              "\n",
              "      .colab-df-generate:hover {\n",
              "        background-color: #E2EBFA;\n",
              "        box-shadow: 0px 1px 2px rgba(60, 64, 67, 0.3), 0px 1px 3px 1px rgba(60, 64, 67, 0.15);\n",
              "        fill: #174EA6;\n",
              "      }\n",
              "\n",
              "      [theme=dark] .colab-df-generate {\n",
              "        background-color: #3B4455;\n",
              "        fill: #D2E3FC;\n",
              "      }\n",
              "\n",
              "      [theme=dark] .colab-df-generate:hover {\n",
              "        background-color: #434B5C;\n",
              "        box-shadow: 0px 1px 3px 1px rgba(0, 0, 0, 0.15);\n",
              "        filter: drop-shadow(0px 1px 2px rgba(0, 0, 0, 0.3));\n",
              "        fill: #FFFFFF;\n",
              "      }\n",
              "    </style>\n",
              "    <button class=\"colab-df-generate\" onclick=\"generateWithVariable('result_df')\"\n",
              "            title=\"Generate code using this dataframe.\"\n",
              "            style=\"display:none;\">\n",
              "\n",
              "  <svg xmlns=\"http://www.w3.org/2000/svg\" height=\"24px\"viewBox=\"0 0 24 24\"\n",
              "       width=\"24px\">\n",
              "    <path d=\"M7,19H8.4L18.45,9,17,7.55,7,17.6ZM5,21V16.75L18.45,3.32a2,2,0,0,1,2.83,0l1.4,1.43a1.91,1.91,0,0,1,.58,1.4,1.91,1.91,0,0,1-.58,1.4L9.25,21ZM18.45,9,17,7.55Zm-12,3A5.31,5.31,0,0,0,4.9,8.1,5.31,5.31,0,0,0,1,6.5,5.31,5.31,0,0,0,4.9,4.9,5.31,5.31,0,0,0,6.5,1,5.31,5.31,0,0,0,8.1,4.9,5.31,5.31,0,0,0,12,6.5,5.46,5.46,0,0,0,6.5,12Z\"/>\n",
              "  </svg>\n",
              "    </button>\n",
              "    <script>\n",
              "      (() => {\n",
              "      const buttonEl =\n",
              "        document.querySelector('#id_b8d44098-609e-4eb5-85e0-6544818dd220 button.colab-df-generate');\n",
              "      buttonEl.style.display =\n",
              "        google.colab.kernel.accessAllowed ? 'block' : 'none';\n",
              "\n",
              "      buttonEl.onclick = () => {\n",
              "        google.colab.notebook.generateWithVariable('result_df');\n",
              "      }\n",
              "      })();\n",
              "    </script>\n",
              "  </div>\n",
              "\n",
              "    </div>\n",
              "  </div>\n"
            ],
            "application/vnd.google.colaboratory.intrinsic+json": {
              "type": "dataframe",
              "variable_name": "result_df"
            }
          },
          "metadata": {},
          "execution_count": 11
        }
      ]
    },
    {
      "cell_type": "code",
      "source": [
        "result_df.to_csv(\"./drive/MyDrive/Colab_Notebooks/project/nexon/data/nexon_post_data_2308.csv\")"
      ],
      "metadata": {
        "id": "Ra74Fg-rv9G7"
      },
      "execution_count": null,
      "outputs": []
    },
    {
      "cell_type": "code",
      "source": [
        "result_df[result_df['Reaction'].str.contains('6차')]"
      ],
      "metadata": {
        "colab": {
          "base_uri": "https://localhost:8080/",
          "height": 423
        },
        "id": "-RfEchLnwVsn",
        "outputId": "7cc4a28c-abf2-44e0-a397-5933b5957304"
      },
      "execution_count": null,
      "outputs": [
        {
          "output_type": "execute_result",
          "data": {
            "text/plain": [
              "        Unnamed: 0              Date  \\\n",
              "60            60.0  2023-08-01 00:13   \n",
              "62            62.0  2023-08-01 00:14   \n",
              "99            99.0  2023-08-01 00:21   \n",
              "101          101.0  2023-08-01 00:21   \n",
              "106          106.0  2023-08-01 00:23   \n",
              "...            ...               ...   \n",
              "140226         NaN  2023-08-31 22:48   \n",
              "140294         NaN  2023-08-31 23:00   \n",
              "140310         NaN  2023-08-31 23:04   \n",
              "140312         NaN  2023-08-31 23:05   \n",
              "140320         NaN  2023-08-31 23:07   \n",
              "\n",
              "                                                 Reaction  \n",
              "60      익몬 4050세명 끼고 1극딜 캐리하려면 무릉 몇층정도 되어야함? 4050세명 데리...  \n",
              "62      템 애매하게 맞춰진 49따리인데 템을 전체적으로 갈아야 50층을 넘길만한 상황인데 ...  \n",
              "99      8월에 노블개선 들어와야함 코코넛 펀치킹치고 6차 쿨 기다리느라 노블 태우고보스하나...  \n",
              "101     6차 전직 퀘스트 여로 스톤 경험치 모으는구요 여로 아닌곳에서 사냥해도 스톤 경험치...  \n",
              "106     6차 공용스킬은 어떤식으로 나올까 프리드 가호마냥 직업군별일까에테폼 마냥 직업별일까...  \n",
              "...                                                   ...  \n",
              "140226  부캐 흙케인 무기 어느정도까지 쓸만할거같음? 17성 15작 공2추 윗공9% 아랫공3...  \n",
              "140294  다시 1000억 모았다 저번달에 1000억 모으고나서 3석펫사느라 250억 쓰고여러...  \n",
              "140310  강원김창섭의 본섭에 매몰시키기 프로젝트가 성공적으로 진행되고 있네 다시는 리부트로 ...  \n",
              "140312  자전 매우고민이네요 부부캐긴한데 똥컨이라 비숍해방후 불독 이렇게 갈려했는데 6차나오...  \n",
              "140320  아란 카이저 중에 사냥 누가 더 잘함? 보스는 차피 솔플 위주로 해서 아란이든 카이...  \n",
              "\n",
              "[4202 rows x 3 columns]"
            ],
            "text/html": [
              "\n",
              "  <div id=\"df-a04477e1-5b28-4de2-8f3a-67cefd4158a3\" class=\"colab-df-container\">\n",
              "    <div>\n",
              "<style scoped>\n",
              "    .dataframe tbody tr th:only-of-type {\n",
              "        vertical-align: middle;\n",
              "    }\n",
              "\n",
              "    .dataframe tbody tr th {\n",
              "        vertical-align: top;\n",
              "    }\n",
              "\n",
              "    .dataframe thead th {\n",
              "        text-align: right;\n",
              "    }\n",
              "</style>\n",
              "<table border=\"1\" class=\"dataframe\">\n",
              "  <thead>\n",
              "    <tr style=\"text-align: right;\">\n",
              "      <th></th>\n",
              "      <th>Unnamed: 0</th>\n",
              "      <th>Date</th>\n",
              "      <th>Reaction</th>\n",
              "    </tr>\n",
              "  </thead>\n",
              "  <tbody>\n",
              "    <tr>\n",
              "      <th>60</th>\n",
              "      <td>60.0</td>\n",
              "      <td>2023-08-01 00:13</td>\n",
              "      <td>익몬 4050세명 끼고 1극딜 캐리하려면 무릉 몇층정도 되어야함? 4050세명 데리...</td>\n",
              "    </tr>\n",
              "    <tr>\n",
              "      <th>62</th>\n",
              "      <td>62.0</td>\n",
              "      <td>2023-08-01 00:14</td>\n",
              "      <td>템 애매하게 맞춰진 49따리인데 템을 전체적으로 갈아야 50층을 넘길만한 상황인데 ...</td>\n",
              "    </tr>\n",
              "    <tr>\n",
              "      <th>99</th>\n",
              "      <td>99.0</td>\n",
              "      <td>2023-08-01 00:21</td>\n",
              "      <td>8월에 노블개선 들어와야함 코코넛 펀치킹치고 6차 쿨 기다리느라 노블 태우고보스하나...</td>\n",
              "    </tr>\n",
              "    <tr>\n",
              "      <th>101</th>\n",
              "      <td>101.0</td>\n",
              "      <td>2023-08-01 00:21</td>\n",
              "      <td>6차 전직 퀘스트 여로 스톤 경험치 모으는구요 여로 아닌곳에서 사냥해도 스톤 경험치...</td>\n",
              "    </tr>\n",
              "    <tr>\n",
              "      <th>106</th>\n",
              "      <td>106.0</td>\n",
              "      <td>2023-08-01 00:23</td>\n",
              "      <td>6차 공용스킬은 어떤식으로 나올까 프리드 가호마냥 직업군별일까에테폼 마냥 직업별일까...</td>\n",
              "    </tr>\n",
              "    <tr>\n",
              "      <th>...</th>\n",
              "      <td>...</td>\n",
              "      <td>...</td>\n",
              "      <td>...</td>\n",
              "    </tr>\n",
              "    <tr>\n",
              "      <th>140226</th>\n",
              "      <td>NaN</td>\n",
              "      <td>2023-08-31 22:48</td>\n",
              "      <td>부캐 흙케인 무기 어느정도까지 쓸만할거같음? 17성 15작 공2추 윗공9% 아랫공3...</td>\n",
              "    </tr>\n",
              "    <tr>\n",
              "      <th>140294</th>\n",
              "      <td>NaN</td>\n",
              "      <td>2023-08-31 23:00</td>\n",
              "      <td>다시 1000억 모았다 저번달에 1000억 모으고나서 3석펫사느라 250억 쓰고여러...</td>\n",
              "    </tr>\n",
              "    <tr>\n",
              "      <th>140310</th>\n",
              "      <td>NaN</td>\n",
              "      <td>2023-08-31 23:04</td>\n",
              "      <td>강원김창섭의 본섭에 매몰시키기 프로젝트가 성공적으로 진행되고 있네 다시는 리부트로 ...</td>\n",
              "    </tr>\n",
              "    <tr>\n",
              "      <th>140312</th>\n",
              "      <td>NaN</td>\n",
              "      <td>2023-08-31 23:05</td>\n",
              "      <td>자전 매우고민이네요 부부캐긴한데 똥컨이라 비숍해방후 불독 이렇게 갈려했는데 6차나오...</td>\n",
              "    </tr>\n",
              "    <tr>\n",
              "      <th>140320</th>\n",
              "      <td>NaN</td>\n",
              "      <td>2023-08-31 23:07</td>\n",
              "      <td>아란 카이저 중에 사냥 누가 더 잘함? 보스는 차피 솔플 위주로 해서 아란이든 카이...</td>\n",
              "    </tr>\n",
              "  </tbody>\n",
              "</table>\n",
              "<p>4202 rows × 3 columns</p>\n",
              "</div>\n",
              "    <div class=\"colab-df-buttons\">\n",
              "\n",
              "  <div class=\"colab-df-container\">\n",
              "    <button class=\"colab-df-convert\" onclick=\"convertToInteractive('df-a04477e1-5b28-4de2-8f3a-67cefd4158a3')\"\n",
              "            title=\"Convert this dataframe to an interactive table.\"\n",
              "            style=\"display:none;\">\n",
              "\n",
              "  <svg xmlns=\"http://www.w3.org/2000/svg\" height=\"24px\" viewBox=\"0 -960 960 960\">\n",
              "    <path d=\"M120-120v-720h720v720H120Zm60-500h600v-160H180v160Zm220 220h160v-160H400v160Zm0 220h160v-160H400v160ZM180-400h160v-160H180v160Zm440 0h160v-160H620v160ZM180-180h160v-160H180v160Zm440 0h160v-160H620v160Z\"/>\n",
              "  </svg>\n",
              "    </button>\n",
              "\n",
              "  <style>\n",
              "    .colab-df-container {\n",
              "      display:flex;\n",
              "      gap: 12px;\n",
              "    }\n",
              "\n",
              "    .colab-df-convert {\n",
              "      background-color: #E8F0FE;\n",
              "      border: none;\n",
              "      border-radius: 50%;\n",
              "      cursor: pointer;\n",
              "      display: none;\n",
              "      fill: #1967D2;\n",
              "      height: 32px;\n",
              "      padding: 0 0 0 0;\n",
              "      width: 32px;\n",
              "    }\n",
              "\n",
              "    .colab-df-convert:hover {\n",
              "      background-color: #E2EBFA;\n",
              "      box-shadow: 0px 1px 2px rgba(60, 64, 67, 0.3), 0px 1px 3px 1px rgba(60, 64, 67, 0.15);\n",
              "      fill: #174EA6;\n",
              "    }\n",
              "\n",
              "    .colab-df-buttons div {\n",
              "      margin-bottom: 4px;\n",
              "    }\n",
              "\n",
              "    [theme=dark] .colab-df-convert {\n",
              "      background-color: #3B4455;\n",
              "      fill: #D2E3FC;\n",
              "    }\n",
              "\n",
              "    [theme=dark] .colab-df-convert:hover {\n",
              "      background-color: #434B5C;\n",
              "      box-shadow: 0px 1px 3px 1px rgba(0, 0, 0, 0.15);\n",
              "      filter: drop-shadow(0px 1px 2px rgba(0, 0, 0, 0.3));\n",
              "      fill: #FFFFFF;\n",
              "    }\n",
              "  </style>\n",
              "\n",
              "    <script>\n",
              "      const buttonEl =\n",
              "        document.querySelector('#df-a04477e1-5b28-4de2-8f3a-67cefd4158a3 button.colab-df-convert');\n",
              "      buttonEl.style.display =\n",
              "        google.colab.kernel.accessAllowed ? 'block' : 'none';\n",
              "\n",
              "      async function convertToInteractive(key) {\n",
              "        const element = document.querySelector('#df-a04477e1-5b28-4de2-8f3a-67cefd4158a3');\n",
              "        const dataTable =\n",
              "          await google.colab.kernel.invokeFunction('convertToInteractive',\n",
              "                                                    [key], {});\n",
              "        if (!dataTable) return;\n",
              "\n",
              "        const docLinkHtml = 'Like what you see? Visit the ' +\n",
              "          '<a target=\"_blank\" href=https://colab.research.google.com/notebooks/data_table.ipynb>data table notebook</a>'\n",
              "          + ' to learn more about interactive tables.';\n",
              "        element.innerHTML = '';\n",
              "        dataTable['output_type'] = 'display_data';\n",
              "        await google.colab.output.renderOutput(dataTable, element);\n",
              "        const docLink = document.createElement('div');\n",
              "        docLink.innerHTML = docLinkHtml;\n",
              "        element.appendChild(docLink);\n",
              "      }\n",
              "    </script>\n",
              "  </div>\n",
              "\n",
              "\n",
              "<div id=\"df-4f57326a-793b-4fcf-ad8c-b0593f1d594b\">\n",
              "  <button class=\"colab-df-quickchart\" onclick=\"quickchart('df-4f57326a-793b-4fcf-ad8c-b0593f1d594b')\"\n",
              "            title=\"Suggest charts\"\n",
              "            style=\"display:none;\">\n",
              "\n",
              "<svg xmlns=\"http://www.w3.org/2000/svg\" height=\"24px\"viewBox=\"0 0 24 24\"\n",
              "     width=\"24px\">\n",
              "    <g>\n",
              "        <path d=\"M19 3H5c-1.1 0-2 .9-2 2v14c0 1.1.9 2 2 2h14c1.1 0 2-.9 2-2V5c0-1.1-.9-2-2-2zM9 17H7v-7h2v7zm4 0h-2V7h2v10zm4 0h-2v-4h2v4z\"/>\n",
              "    </g>\n",
              "</svg>\n",
              "  </button>\n",
              "\n",
              "<style>\n",
              "  .colab-df-quickchart {\n",
              "      --bg-color: #E8F0FE;\n",
              "      --fill-color: #1967D2;\n",
              "      --hover-bg-color: #E2EBFA;\n",
              "      --hover-fill-color: #174EA6;\n",
              "      --disabled-fill-color: #AAA;\n",
              "      --disabled-bg-color: #DDD;\n",
              "  }\n",
              "\n",
              "  [theme=dark] .colab-df-quickchart {\n",
              "      --bg-color: #3B4455;\n",
              "      --fill-color: #D2E3FC;\n",
              "      --hover-bg-color: #434B5C;\n",
              "      --hover-fill-color: #FFFFFF;\n",
              "      --disabled-bg-color: #3B4455;\n",
              "      --disabled-fill-color: #666;\n",
              "  }\n",
              "\n",
              "  .colab-df-quickchart {\n",
              "    background-color: var(--bg-color);\n",
              "    border: none;\n",
              "    border-radius: 50%;\n",
              "    cursor: pointer;\n",
              "    display: none;\n",
              "    fill: var(--fill-color);\n",
              "    height: 32px;\n",
              "    padding: 0;\n",
              "    width: 32px;\n",
              "  }\n",
              "\n",
              "  .colab-df-quickchart:hover {\n",
              "    background-color: var(--hover-bg-color);\n",
              "    box-shadow: 0 1px 2px rgba(60, 64, 67, 0.3), 0 1px 3px 1px rgba(60, 64, 67, 0.15);\n",
              "    fill: var(--button-hover-fill-color);\n",
              "  }\n",
              "\n",
              "  .colab-df-quickchart-complete:disabled,\n",
              "  .colab-df-quickchart-complete:disabled:hover {\n",
              "    background-color: var(--disabled-bg-color);\n",
              "    fill: var(--disabled-fill-color);\n",
              "    box-shadow: none;\n",
              "  }\n",
              "\n",
              "  .colab-df-spinner {\n",
              "    border: 2px solid var(--fill-color);\n",
              "    border-color: transparent;\n",
              "    border-bottom-color: var(--fill-color);\n",
              "    animation:\n",
              "      spin 1s steps(1) infinite;\n",
              "  }\n",
              "\n",
              "  @keyframes spin {\n",
              "    0% {\n",
              "      border-color: transparent;\n",
              "      border-bottom-color: var(--fill-color);\n",
              "      border-left-color: var(--fill-color);\n",
              "    }\n",
              "    20% {\n",
              "      border-color: transparent;\n",
              "      border-left-color: var(--fill-color);\n",
              "      border-top-color: var(--fill-color);\n",
              "    }\n",
              "    30% {\n",
              "      border-color: transparent;\n",
              "      border-left-color: var(--fill-color);\n",
              "      border-top-color: var(--fill-color);\n",
              "      border-right-color: var(--fill-color);\n",
              "    }\n",
              "    40% {\n",
              "      border-color: transparent;\n",
              "      border-right-color: var(--fill-color);\n",
              "      border-top-color: var(--fill-color);\n",
              "    }\n",
              "    60% {\n",
              "      border-color: transparent;\n",
              "      border-right-color: var(--fill-color);\n",
              "    }\n",
              "    80% {\n",
              "      border-color: transparent;\n",
              "      border-right-color: var(--fill-color);\n",
              "      border-bottom-color: var(--fill-color);\n",
              "    }\n",
              "    90% {\n",
              "      border-color: transparent;\n",
              "      border-bottom-color: var(--fill-color);\n",
              "    }\n",
              "  }\n",
              "</style>\n",
              "\n",
              "  <script>\n",
              "    async function quickchart(key) {\n",
              "      const quickchartButtonEl =\n",
              "        document.querySelector('#' + key + ' button');\n",
              "      quickchartButtonEl.disabled = true;  // To prevent multiple clicks.\n",
              "      quickchartButtonEl.classList.add('colab-df-spinner');\n",
              "      try {\n",
              "        const charts = await google.colab.kernel.invokeFunction(\n",
              "            'suggestCharts', [key], {});\n",
              "      } catch (error) {\n",
              "        console.error('Error during call to suggestCharts:', error);\n",
              "      }\n",
              "      quickchartButtonEl.classList.remove('colab-df-spinner');\n",
              "      quickchartButtonEl.classList.add('colab-df-quickchart-complete');\n",
              "    }\n",
              "    (() => {\n",
              "      let quickchartButtonEl =\n",
              "        document.querySelector('#df-4f57326a-793b-4fcf-ad8c-b0593f1d594b button');\n",
              "      quickchartButtonEl.style.display =\n",
              "        google.colab.kernel.accessAllowed ? 'block' : 'none';\n",
              "    })();\n",
              "  </script>\n",
              "</div>\n",
              "\n",
              "    </div>\n",
              "  </div>\n"
            ],
            "application/vnd.google.colaboratory.intrinsic+json": {
              "type": "dataframe",
              "repr_error": "0"
            }
          },
          "metadata": {},
          "execution_count": 13
        }
      ]
    },
    {
      "cell_type": "code",
      "source": [],
      "metadata": {
        "id": "tU1I8N9EB3ob"
      },
      "execution_count": null,
      "outputs": []
    }
  ]
}