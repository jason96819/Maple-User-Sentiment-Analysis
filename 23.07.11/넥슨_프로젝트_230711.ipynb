{
  "nbformat": 4,
  "nbformat_minor": 0,
  "metadata": {
    "colab": {
      "provenance": [],
      "authorship_tag": "ABX9TyPbwwTG+XSRfus26cDGG0SC",
      "include_colab_link": true
    },
    "kernelspec": {
      "name": "python3",
      "display_name": "Python 3"
    },
    "language_info": {
      "name": "python"
    }
  },
  "cells": [
    {
      "cell_type": "markdown",
      "metadata": {
        "id": "view-in-github",
        "colab_type": "text"
      },
      "source": [
        "<a href=\"https://colab.research.google.com/github/jason96819/Project_1/blob/main/%EB%84%A5%EC%8A%A8_%ED%94%84%EB%A1%9C%EC%A0%9D%ED%8A%B8_230711.ipynb\" target=\"_parent\"><img src=\"https://colab.research.google.com/assets/colab-badge.svg\" alt=\"Open In Colab\"/></a>"
      ]
    },
    {
      "cell_type": "markdown",
      "source": [
        "넥슨 데이터 분석가 (UX/게임 경험 분석) 를 지원하기 위한 프로젝트\n",
        "\n",
        "공고 사이트 : https://career.nexon.com/user/recruit/member/postDetail?joinCorp=NX&reNo=20230124&currentPage=0"
      ],
      "metadata": {
        "id": "dqb7Qk2U5zUn"
      }
    },
    {
      "cell_type": "markdown",
      "source": [
        "프로젝트 내용 : 이번 23.06.10일 넥슨 대표 게임인 메이플 스토리의 6차 전직이 발표되었다.\n",
        "\n",
        "이에 대해 유저들의 반응을 알아보고자 데이터를 수집하고 반응들을 살펴보는 프로젝트를 진행하였다."
      ],
      "metadata": {
        "id": "4JQSn6p85_Rg"
      }
    },
    {
      "cell_type": "markdown",
      "source": [
        "# 0. 데이터 수집"
      ],
      "metadata": {
        "id": "y7LjFem66KOa"
      }
    },
    {
      "cell_type": "markdown",
      "source": [
        "총 두 개의 사이트에서 데이터를 수집하였다."
      ],
      "metadata": {
        "id": "ZTVOYxFs6M0a"
      }
    },
    {
      "cell_type": "code",
      "source": [
        "# 메이플 인벤 8180942&p=2 ~ 8430942&p=5"
      ],
      "metadata": {
        "id": "mklKoRbeIhsO"
      },
      "execution_count": null,
      "outputs": []
    },
    {
      "cell_type": "code",
      "source": [],
      "metadata": {
        "id": "87cX5jQZInPY"
      },
      "execution_count": null,
      "outputs": []
    },
    {
      "cell_type": "code",
      "execution_count": null,
      "metadata": {
        "id": "WKG_sMNj5wZO"
      },
      "outputs": [],
      "source": [
        "https://www.inven.co.kr/board/maple/5974?name=subject&keyword=6%EC%B0%A8&sterm=8430942&p=5    # 6/01"
      ]
    },
    {
      "cell_type": "code",
      "source": [
        "https://www.inven.co.kr/board/maple/5974?name=subject&keyword=6%EC%B0%A8&sterm=8180570&p=2    # 6/30"
      ],
      "metadata": {
        "id": "z3yd6t0oHu9B"
      },
      "execution_count": null,
      "outputs": []
    },
    {
      "cell_type": "code",
      "source": [
        "https://www.fmkorea.com/search.php?mid=maple&search_keyword=6%EC%B0%A8&search_target=title_content&listStyle=list&page=53    # 펨코  (바뀔 수 있음)"
      ],
      "metadata": {
        "id": "q69Ue8QPMWPZ"
      },
      "execution_count": null,
      "outputs": []
    },
    {
      "cell_type": "code",
      "source": [
        "https://www.fmkorea.com/search.php?mid=maple&search_keyword=6%EC%B0%A8&search_target=title_content&listStyle=list&page=188    # 펨코  (바뀔 수 있음)"
      ],
      "metadata": {
        "id": "HGnyufECMWKa"
      },
      "execution_count": null,
      "outputs": []
    },
    {
      "cell_type": "code",
      "source": [
        "from urllib.request import urlopen\n",
        "from bs4 import BeautifulSoup\n",
        "\n",
        "html = urlopen(\"https://www.inven.co.kr/board/maple/5974?name=subject&keyword=6%EC%B0%A8&sterm=8430942&p=5\")\n",
        "\n",
        "bsObject = BeautifulSoup(html, \"html.parser\")\n",
        "\n",
        "for link in bsObject.find_all('a', attrs={\"class\":\"subject-link\"}):\n",
        "    print(link.text.strip(), link.get('href'))"
      ],
      "metadata": {
        "colab": {
          "base_uri": "https://localhost:8080/"
        },
        "id": "4PkboVGwOLlK",
        "outputId": "d55f036d-3a39-4d08-cdd2-b01c41280ac7"
      },
      "execution_count": 14,
      "outputs": [
        {
          "output_type": "stream",
          "name": "stdout",
          "text": [
            "[수다]\n",
            "                                                                                                            만약에 6차 나온다고 가정하면 이런 느낌 어떰?? https://www.inven.co.kr/board/maple/5974/1593762?p=5&name=subject&keyword=6%EC%B0%A8&sterm=8430942\n",
            "[수다]\n",
            "                                                                                                            6차 나오면 좋긴한데 https://www.inven.co.kr/board/maple/5974/1593760?p=5&name=subject&keyword=6%EC%B0%A8&sterm=8430942\n",
            "[수다]\n",
            "                                                                                                            6차 말고 이거뜨면 어떰? https://www.inven.co.kr/board/maple/5974/1593740?p=5&name=subject&keyword=6%EC%B0%A8&sterm=8430942\n",
            "[수다]\n",
            "                                                                                                            6차는 근데 낼때가 되기는 했는데 https://www.inven.co.kr/board/maple/5974/1593739?p=5&name=subject&keyword=6%EC%B0%A8&sterm=8430942\n",
            "[수다]\n",
            "                                                                                                            만약에 6차급 패치 아니면 진짜 개자슥들이지 https://www.inven.co.kr/board/maple/5974/1593733?p=5&name=subject&keyword=6%EC%B0%A8&sterm=8430942\n",
            "[수다]\n",
            "                                                                                                            6차 나와도 왜 겜은 그대로일거 같냐 https://www.inven.co.kr/board/maple/5974/1593723?p=5&name=subject&keyword=6%EC%B0%A8&sterm=8430942\n",
            "[수다]\n",
            "                                                                                                            알고보니 6차전직이 아니라 https://www.inven.co.kr/board/maple/5974/1593717?p=5&name=subject&keyword=6%EC%B0%A8&sterm=8430942\n",
            "[수다]\n",
            "                                                                                                            솔직히 6차 없을 거 같다고 말하면 욕먹으려나.. https://www.inven.co.kr/board/maple/5974/1593697?p=5&name=subject&keyword=6%EC%B0%A8&sterm=8430942\n",
            "[수다]\n",
            "                                                                                                            6차 근데 생각없다 하지 않음?? https://www.inven.co.kr/board/maple/5974/1593691?p=5&name=subject&keyword=6%EC%B0%A8&sterm=8430942\n",
            "[수다]\n",
            "                                                                                                            진짜 쇼케진행중 6차 안나오면 https://www.inven.co.kr/board/maple/5974/1593674?p=5&name=subject&keyword=6%EC%B0%A8&sterm=8430942\n",
            "[수다]\n",
            "                                                                                                            쇼케 6차는 무조건 오지 않을까 https://www.inven.co.kr/board/maple/5974/1593654?p=5&name=subject&keyword=6%EC%B0%A8&sterm=8430942\n",
            "[수다]\n",
            "                                                                                                            6차안나오니벤들갑그만 https://www.inven.co.kr/board/maple/5974/1593649?p=5&name=subject&keyword=6%EC%B0%A8&sterm=8430942\n",
            "[수다]\n",
            "                                                                                                            6차고 뭐고 오늘kfc 1+1임 https://www.inven.co.kr/board/maple/5974/1593627?p=5&name=subject&keyword=6%EC%B0%A8&sterm=8430942\n",
            "[수다]\n",
            "                                                                                                            이정도 어그로끌고 6차 안나오는거면 https://www.inven.co.kr/board/maple/5974/1593614?p=5&name=subject&keyword=6%EC%B0%A8&sterm=8430942\n",
            "[수다]\n",
            "                                                                                                            6차 전직 무조건 나와줍시다 https://www.inven.co.kr/board/maple/5974/1593613?p=5&name=subject&keyword=6%EC%B0%A8&sterm=8430942\n",
            "[수다]\n",
            "                                                                                                            6차 나오든 안나오든 존나 기대되면 개추ㅋㅋㅋㅋ https://www.inven.co.kr/board/maple/5974/1593602?p=5&name=subject&keyword=6%EC%B0%A8&sterm=8430942\n",
            "[수다]\n",
            "                                                                                                            이번 쇼케에서 6차 출시 계획 말하거나 출시하는거 정배아님? https://www.inven.co.kr/board/maple/5974/1593548?p=5&name=subject&keyword=6%EC%B0%A8&sterm=8430942\n",
            "[수다]\n",
            "                                                                                                            테마송 나오면서 뒤에 영상으로 6차 나오겠네 https://www.inven.co.kr/board/maple/5974/1593516?p=5&name=subject&keyword=6%EC%B0%A8&sterm=8430942\n",
            "[수다]\n",
            "                                                                                                            6차 선행퀘 뭘까..? https://www.inven.co.kr/board/maple/5974/1593505?p=5&name=subject&keyword=6%EC%B0%A8&sterm=8430942\n",
            "[수다]\n",
            "                                                                                                            ㅌㅍ) 6차뜨기 VS 돼지국밥에 공기밥 말아 국물까지 뚝딱하기 https://www.inven.co.kr/board/maple/5974/1593503?p=5&name=subject&keyword=6%EC%B0%A8&sterm=8430942\n",
            "[수다]\n",
            "                                                                                                            ??? : 6차 검토해 보겠습니다. https://www.inven.co.kr/board/maple/5974/1593504?p=5&name=subject&keyword=6%EC%B0%A8&sterm=8430942\n",
            "[수다]\n",
            "                                                                                                            6차라이팅 당했나 https://www.inven.co.kr/board/maple/5974/1593497?p=5&name=subject&keyword=6%EC%B0%A8&sterm=8430942\n",
            "[수다]\n",
            "                                                                                                            6월10일에 6차 나온다고 발표하고, 겨울에 적용 된다하면 어쩌냐?? https://www.inven.co.kr/board/maple/5974/1593490?p=5&name=subject&keyword=6%EC%B0%A8&sterm=8430942\n",
            "[수다]\n",
            "                                                                                                            원기라면 리마스터아까워서 6차도 주력기 대체안할거같음 https://www.inven.co.kr/board/maple/5974/1593486?p=5&name=subject&keyword=6%EC%B0%A8&sterm=8430942\n",
            "[수다]\n",
            "                                                                                                            솔직히 6차가 정배라서 예고만하면 실망할거같음 https://www.inven.co.kr/board/maple/5974/1593484?p=5&name=subject&keyword=6%EC%B0%A8&sterm=8430942\n",
            "[수다]\n",
            "                                                                                                            어차피 6차 안나와도 \"기다려\" 당할 메붕이들인데 https://www.inven.co.kr/board/maple/5974/1593471?p=5&name=subject&keyword=6%EC%B0%A8&sterm=8430942\n",
            "[수다]\n",
            "                                                                                                            6차가 작년에 나왔어야했는데 Live땜에 밀린거 아닐까? https://www.inven.co.kr/board/maple/5974/1593447?p=5&name=subject&keyword=6%EC%B0%A8&sterm=8430942\n",
            "[수다]\n",
            "                                                                                                            쇼케때 잠재 4줄된다하면 6차보다 떡상? https://www.inven.co.kr/board/maple/5974/1593433?p=5&name=subject&keyword=6%EC%B0%A8&sterm=8430942\n",
            "[수다]\n",
            "                                                                                                            Savior때 6차 내려다 개발지연되서 웡스토랑 땜빵했을 확률 https://www.inven.co.kr/board/maple/5974/1593430?p=5&name=subject&keyword=6%EC%B0%A8&sterm=8430942\n",
            "[수다]\n",
            "                                                                                                            아무리 생각해봐도 6차는 말이 안됨 https://www.inven.co.kr/board/maple/5974/1593416?p=5&name=subject&keyword=6%EC%B0%A8&sterm=8430942\n",
            "[수다]\n",
            "                                                                                                            6차가 아니라 6중나생문 추가면 어캄ㅇㅇ.... https://www.inven.co.kr/board/maple/5974/1593402?p=5&name=subject&keyword=6%EC%B0%A8&sterm=8430942\n",
            "[수다]\n",
            "                                                                                                            이번 쇼케 6차 맞는이유 https://www.inven.co.kr/board/maple/5974/1593392?p=5&name=subject&keyword=6%EC%B0%A8&sterm=8430942\n",
            "[수다]\n",
            "                                                                                                            6차를 스킬 통합형으로 만들어서 https://www.inven.co.kr/board/maple/5974/1593388?p=5&name=subject&keyword=6%EC%B0%A8&sterm=8430942\n",
            "[수다]\n",
            "                                                                                                            6차 너무 기대된다!! https://www.inven.co.kr/board/maple/5974/1593387?p=5&name=subject&keyword=6%EC%B0%A8&sterm=8430942\n",
            "[수다]\n",
            "                                                                                                            근데 모든게 6차를 암시하긴 하는데 https://www.inven.co.kr/board/maple/5974/1593385?p=5&name=subject&keyword=6%EC%B0%A8&sterm=8430942\n",
            "[수다]\n",
            "                                                                                                            6차 솔직히 기대가 안됨 https://www.inven.co.kr/board/maple/5974/1593384?p=5&name=subject&keyword=6%EC%B0%A8&sterm=8430942\n",
            "[수다]\n",
            "                                                                                                            근데 6차 어떻게 나올지 상상이 안감 https://www.inven.co.kr/board/maple/5974/1593381?p=5&name=subject&keyword=6%EC%B0%A8&sterm=8430942\n",
            "[수다]\n",
            "                                                                                                            6차나오면 파워인플레 오질텐데 https://www.inven.co.kr/board/maple/5974/1593378?p=5&name=subject&keyword=6%EC%B0%A8&sterm=8430942\n",
            "[수다]\n",
            "                                                                                                            근데 궁금한게 운영진이 6차 떡밥 진지하게 던지긴 했음?? https://www.inven.co.kr/board/maple/5974/1593371?p=5&name=subject&keyword=6%EC%B0%A8&sterm=8430942\n",
            "[수다]\n",
            "                                                                                                            6차 근들갑 떨지 말라는 얘들도 웃김 https://www.inven.co.kr/board/maple/5974/1593351?p=5&name=subject&keyword=6%EC%B0%A8&sterm=8430942\n",
            "[수다]\n",
            "                                                                                                            이정도면 없는6차도 만들어내야할듯.. https://www.inven.co.kr/board/maple/5974/1593329?p=5&name=subject&keyword=6%EC%B0%A8&sterm=8430942\n",
            "[수다]\n",
            "                                                                                                            아...네..6차 아니구요..네... https://www.inven.co.kr/board/maple/5974/1593326?p=5&name=subject&keyword=6%EC%B0%A8&sterm=8430942\n",
            "[수다]\n",
            "                                                                                                            6차 예고? https://www.inven.co.kr/board/maple/5974/1593288?p=5&name=subject&keyword=6%EC%B0%A8&sterm=8430942\n",
            "[수다]\n",
            "                                                                                                            6차 다이스 https://www.inven.co.kr/board/maple/5974/1593199?p=5&name=subject&keyword=6%EC%B0%A8&sterm=8430942\n",
            "[수다]\n",
            "                                                                                                            6차전직말고 https://www.inven.co.kr/board/maple/5974/1593042?p=5&name=subject&keyword=6%EC%B0%A8&sterm=8430942\n",
            "[수다]\n",
            "                                                                                                            ㅌㅍ) 6차안나오면 피시방점유율 몇퍼 예상함? https://www.inven.co.kr/board/maple/5974/1593018?p=5&name=subject&keyword=6%EC%B0%A8&sterm=8430942\n",
            "[수다]\n",
            "                                                                                                            6차때 티어떡상할만한 직업분명 있겠지? https://www.inven.co.kr/board/maple/5974/1592972?p=5&name=subject&keyword=6%EC%B0%A8&sterm=8430942\n",
            "[수다]\n",
            "                                                                                                            내가보긴 6차 안나올듯.. https://www.inven.co.kr/board/maple/5974/1592820?p=5&name=subject&keyword=6%EC%B0%A8&sterm=8430942\n",
            "[수다]\n",
            "                                                                                                            근데 6차 안나올거 같은데 https://www.inven.co.kr/board/maple/5974/1592808?p=5&name=subject&keyword=6%EC%B0%A8&sterm=8430942\n",
            "[수다]\n",
            "                                                                                                            6차가 270이든 280이든 겜 안망하니까 근들갑 ㄴㄴ https://www.inven.co.kr/board/maple/5974/1592787?p=5&name=subject&keyword=6%EC%B0%A8&sterm=8430942\n",
            "[수다]\n",
            "                                                                                                            6차는 도전목표가 되어야지 뉴비도 즐길 수준인건 반대함 https://www.inven.co.kr/board/maple/5974/1592777?p=5&name=subject&keyword=6%EC%B0%A8&sterm=8430942\n",
            "[수다]\n",
            "                                                                                                            6차 거의 확정으로보는 분위기 아녓음? 오늘은분위기가 https://www.inven.co.kr/board/maple/5974/1592688?p=5&name=subject&keyword=6%EC%B0%A8&sterm=8430942\n",
            "[수다]\n",
            "                                                                                                            6차 나올때까지 노말 진듄다니기 vs 하드 진듄 2인팟 가기 https://www.inven.co.kr/board/maple/5974/1592621?p=5&name=subject&keyword=6%EC%B0%A8&sterm=8430942\n",
            "[수다]\n",
            "                                                                                                            근데 6차나오면 전직업 최종뎀 뻥튀기되서 보스컷 낮아지지않음? https://www.inven.co.kr/board/maple/5974/1592612?p=5&name=subject&keyword=6%EC%B0%A8&sterm=8430942\n",
            "[수다]\n",
            "                                                                                                            6차 왔냐 https://www.inven.co.kr/board/maple/5974/1592416?p=5&name=subject&keyword=6%EC%B0%A8&sterm=8430942\n",
            "[수다]\n",
            "                                                                                                            6차 아니면 로드맵 유기하면 안되는거 아니야 https://www.inven.co.kr/board/maple/5974/1592147?p=5&name=subject&keyword=6%EC%B0%A8&sterm=8430942\n",
            "[수다]\n",
            "                                                                                                            6차 나올 확률 높은 이유 https://www.inven.co.kr/board/maple/5974/1591503?p=5&name=subject&keyword=6%EC%B0%A8&sterm=8430942\n",
            "[수다]\n",
            "                                                                                                            당연히 6차나오겠지 안나오면 진짜 쇼케분위기 어쩔건데; https://www.inven.co.kr/board/maple/5974/1591208?p=5&name=subject&keyword=6%EC%B0%A8&sterm=8430942\n",
            "[수다]\n",
            "                                                                                                            6차 뜬다 https://www.inven.co.kr/board/maple/5974/1591137?p=5&name=subject&keyword=6%EC%B0%A8&sterm=8430942\n",
            "[수다]\n",
            "                                                                                                            6차 완성 https://www.inven.co.kr/board/maple/5974/1591126?p=5&name=subject&keyword=6%EC%B0%A8&sterm=8430942\n",
            "[수다]\n",
            "                                                                                                            예...6차는...없고... https://www.inven.co.kr/board/maple/5974/1591013?p=5&name=subject&keyword=6%EC%B0%A8&sterm=8430942\n",
            "[수다]\n",
            "                                                                                                            광고에서 대놓고 6차떡밥뿌리는데 어떻게 해야하냐 https://www.inven.co.kr/board/maple/5974/1590697?p=5&name=subject&keyword=6%EC%B0%A8&sterm=8430942\n",
            "[수다]\n",
            "                                                                                                            6차나와도 9월에나 나올듯 https://www.inven.co.kr/board/maple/5974/1590481?p=5&name=subject&keyword=6%EC%B0%A8&sterm=8430942\n",
            "[수다]\n",
            "                                                                                                            뭐? 그래서 여름에 6차가 나온다고? https://www.inven.co.kr/board/maple/5974/1590465?p=5&name=subject&keyword=6%EC%B0%A8&sterm=8430942\n",
            "[수다]\n",
            "                                                                                                            6차 나와도 뉴비들은 못하니 다같이 즐겨야하니 마니.... https://www.inven.co.kr/board/maple/5974/1590252?p=5&name=subject&keyword=6%EC%B0%A8&sterm=8430942\n",
            "[수다]\n",
            "                                                                                                            메벤 분위기 6차 기대 ㅈㄴ하다가 현타온거 개웃김 https://www.inven.co.kr/board/maple/5974/1590154?p=5&name=subject&keyword=6%EC%B0%A8&sterm=8430942\n",
            "[수다]\n",
            "                                                                                                            6차코인조합 https://www.inven.co.kr/board/maple/5974/1590138?p=5&name=subject&keyword=6%EC%B0%A8&sterm=8430942\n",
            "[수다]\n",
            "                                                                                                            그냥 여름 쇼케하고나면 할만한 게임정도가 되지 6차이런 혁신적인건 안나올듯.. https://www.inven.co.kr/board/maple/5974/1590128?p=5&name=subject&keyword=6%EC%B0%A8&sterm=8430942\n",
            "[수다]\n",
            "                                                                                                            뭔가 이번 여름에 6차 언급은 할거같음 https://www.inven.co.kr/board/maple/5974/1590084?p=5&name=subject&keyword=6%EC%B0%A8&sterm=8430942\n",
            "[수다]\n",
            "                                                                                                            6차스킬 직업끼리 연계하도록 만들면 재밌겠다 https://www.inven.co.kr/board/maple/5974/1590078?p=5&name=subject&keyword=6%EC%B0%A8&sterm=8430942\n"
          ]
        }
      ]
    },
    {
      "cell_type": "code",
      "source": [
        "from urllib.request import urlopen\n",
        "from bs4 import BeautifulSoup\n",
        "\n",
        "html = urlopen(\"https://www.inven.co.kr/board/maple/5974?name=subject&keyword=6%EC%B0%A8&sterm=8430942&p=5\")\n",
        "bsObject = BeautifulSoup(html, \"html.parser\")\n",
        "\n",
        "result_list = []\n",
        "\n",
        "for link in bsObject.find_all('a', attrs={\"class\":\"subject-link\"}):\n",
        "    text = link.text.strip().lstrip(\"[수다]\\n\").lstrip()\n",
        "    href = link.get('href')\n",
        "    result_list.append((text, href))\n",
        "\n",
        "result_list"
      ],
      "metadata": {
        "colab": {
          "base_uri": "https://localhost:8080/"
        },
        "id": "KXSJq_PFVUrs",
        "outputId": "a377f91a-a04a-4c89-e9c9-1f2f1ad9fbd1"
      },
      "execution_count": 47,
      "outputs": [
        {
          "output_type": "execute_result",
          "data": {
            "text/plain": [
              "[('만약에 6차 나온다고 가정하면 이런 느낌 어떰??',\n",
              "  'https://www.inven.co.kr/board/maple/5974/1593762?p=5&name=subject&keyword=6%EC%B0%A8&sterm=8430942'),\n",
              " ('6차 나오면 좋긴한데',\n",
              "  'https://www.inven.co.kr/board/maple/5974/1593760?p=5&name=subject&keyword=6%EC%B0%A8&sterm=8430942'),\n",
              " ('6차 말고 이거뜨면 어떰?',\n",
              "  'https://www.inven.co.kr/board/maple/5974/1593740?p=5&name=subject&keyword=6%EC%B0%A8&sterm=8430942'),\n",
              " ('6차는 근데 낼때가 되기는 했는데',\n",
              "  'https://www.inven.co.kr/board/maple/5974/1593739?p=5&name=subject&keyword=6%EC%B0%A8&sterm=8430942'),\n",
              " ('만약에 6차급 패치 아니면 진짜 개자슥들이지',\n",
              "  'https://www.inven.co.kr/board/maple/5974/1593733?p=5&name=subject&keyword=6%EC%B0%A8&sterm=8430942'),\n",
              " ('6차 나와도 왜 겜은 그대로일거 같냐',\n",
              "  'https://www.inven.co.kr/board/maple/5974/1593723?p=5&name=subject&keyword=6%EC%B0%A8&sterm=8430942'),\n",
              " ('알고보니 6차전직이 아니라',\n",
              "  'https://www.inven.co.kr/board/maple/5974/1593717?p=5&name=subject&keyword=6%EC%B0%A8&sterm=8430942'),\n",
              " ('솔직히 6차 없을 거 같다고 말하면 욕먹으려나..',\n",
              "  'https://www.inven.co.kr/board/maple/5974/1593697?p=5&name=subject&keyword=6%EC%B0%A8&sterm=8430942'),\n",
              " ('6차 근데 생각없다 하지 않음??',\n",
              "  'https://www.inven.co.kr/board/maple/5974/1593691?p=5&name=subject&keyword=6%EC%B0%A8&sterm=8430942'),\n",
              " ('진짜 쇼케진행중 6차 안나오면',\n",
              "  'https://www.inven.co.kr/board/maple/5974/1593674?p=5&name=subject&keyword=6%EC%B0%A8&sterm=8430942'),\n",
              " ('쇼케 6차는 무조건 오지 않을까',\n",
              "  'https://www.inven.co.kr/board/maple/5974/1593654?p=5&name=subject&keyword=6%EC%B0%A8&sterm=8430942'),\n",
              " ('6차안나오니벤들갑그만',\n",
              "  'https://www.inven.co.kr/board/maple/5974/1593649?p=5&name=subject&keyword=6%EC%B0%A8&sterm=8430942'),\n",
              " ('6차고 뭐고 오늘kfc 1+1임',\n",
              "  'https://www.inven.co.kr/board/maple/5974/1593627?p=5&name=subject&keyword=6%EC%B0%A8&sterm=8430942'),\n",
              " ('이정도 어그로끌고 6차 안나오는거면',\n",
              "  'https://www.inven.co.kr/board/maple/5974/1593614?p=5&name=subject&keyword=6%EC%B0%A8&sterm=8430942'),\n",
              " ('6차 전직 무조건 나와줍시다',\n",
              "  'https://www.inven.co.kr/board/maple/5974/1593613?p=5&name=subject&keyword=6%EC%B0%A8&sterm=8430942'),\n",
              " ('6차 나오든 안나오든 존나 기대되면 개추ㅋㅋㅋㅋ',\n",
              "  'https://www.inven.co.kr/board/maple/5974/1593602?p=5&name=subject&keyword=6%EC%B0%A8&sterm=8430942'),\n",
              " ('이번 쇼케에서 6차 출시 계획 말하거나 출시하는거 정배아님?',\n",
              "  'https://www.inven.co.kr/board/maple/5974/1593548?p=5&name=subject&keyword=6%EC%B0%A8&sterm=8430942'),\n",
              " ('테마송 나오면서 뒤에 영상으로 6차 나오겠네',\n",
              "  'https://www.inven.co.kr/board/maple/5974/1593516?p=5&name=subject&keyword=6%EC%B0%A8&sterm=8430942'),\n",
              " ('6차 선행퀘 뭘까..?',\n",
              "  'https://www.inven.co.kr/board/maple/5974/1593505?p=5&name=subject&keyword=6%EC%B0%A8&sterm=8430942'),\n",
              " ('ㅌㅍ) 6차뜨기 VS 돼지국밥에 공기밥 말아 국물까지 뚝딱하기',\n",
              "  'https://www.inven.co.kr/board/maple/5974/1593503?p=5&name=subject&keyword=6%EC%B0%A8&sterm=8430942'),\n",
              " ('??? : 6차 검토해 보겠습니다.',\n",
              "  'https://www.inven.co.kr/board/maple/5974/1593504?p=5&name=subject&keyword=6%EC%B0%A8&sterm=8430942'),\n",
              " ('6차라이팅 당했나',\n",
              "  'https://www.inven.co.kr/board/maple/5974/1593497?p=5&name=subject&keyword=6%EC%B0%A8&sterm=8430942'),\n",
              " ('6월10일에 6차 나온다고 발표하고, 겨울에 적용 된다하면 어쩌냐??',\n",
              "  'https://www.inven.co.kr/board/maple/5974/1593490?p=5&name=subject&keyword=6%EC%B0%A8&sterm=8430942'),\n",
              " ('원기라면 리마스터아까워서 6차도 주력기 대체안할거같음',\n",
              "  'https://www.inven.co.kr/board/maple/5974/1593486?p=5&name=subject&keyword=6%EC%B0%A8&sterm=8430942'),\n",
              " ('솔직히 6차가 정배라서 예고만하면 실망할거같음',\n",
              "  'https://www.inven.co.kr/board/maple/5974/1593484?p=5&name=subject&keyword=6%EC%B0%A8&sterm=8430942'),\n",
              " ('어차피 6차 안나와도 \"기다려\" 당할 메붕이들인데',\n",
              "  'https://www.inven.co.kr/board/maple/5974/1593471?p=5&name=subject&keyword=6%EC%B0%A8&sterm=8430942'),\n",
              " ('6차가 작년에 나왔어야했는데 Live땜에 밀린거 아닐까?',\n",
              "  'https://www.inven.co.kr/board/maple/5974/1593447?p=5&name=subject&keyword=6%EC%B0%A8&sterm=8430942'),\n",
              " ('쇼케때 잠재 4줄된다하면 6차보다 떡상?',\n",
              "  'https://www.inven.co.kr/board/maple/5974/1593433?p=5&name=subject&keyword=6%EC%B0%A8&sterm=8430942'),\n",
              " ('Savior때 6차 내려다 개발지연되서 웡스토랑 땜빵했을 확률',\n",
              "  'https://www.inven.co.kr/board/maple/5974/1593430?p=5&name=subject&keyword=6%EC%B0%A8&sterm=8430942'),\n",
              " ('아무리 생각해봐도 6차는 말이 안됨',\n",
              "  'https://www.inven.co.kr/board/maple/5974/1593416?p=5&name=subject&keyword=6%EC%B0%A8&sterm=8430942'),\n",
              " ('6차가 아니라 6중나생문 추가면 어캄ㅇㅇ....',\n",
              "  'https://www.inven.co.kr/board/maple/5974/1593402?p=5&name=subject&keyword=6%EC%B0%A8&sterm=8430942'),\n",
              " ('이번 쇼케 6차 맞는이유',\n",
              "  'https://www.inven.co.kr/board/maple/5974/1593392?p=5&name=subject&keyword=6%EC%B0%A8&sterm=8430942'),\n",
              " ('6차를 스킬 통합형으로 만들어서',\n",
              "  'https://www.inven.co.kr/board/maple/5974/1593388?p=5&name=subject&keyword=6%EC%B0%A8&sterm=8430942'),\n",
              " ('6차 너무 기대된다!!',\n",
              "  'https://www.inven.co.kr/board/maple/5974/1593387?p=5&name=subject&keyword=6%EC%B0%A8&sterm=8430942'),\n",
              " ('근데 모든게 6차를 암시하긴 하는데',\n",
              "  'https://www.inven.co.kr/board/maple/5974/1593385?p=5&name=subject&keyword=6%EC%B0%A8&sterm=8430942'),\n",
              " ('6차 솔직히 기대가 안됨',\n",
              "  'https://www.inven.co.kr/board/maple/5974/1593384?p=5&name=subject&keyword=6%EC%B0%A8&sterm=8430942'),\n",
              " ('근데 6차 어떻게 나올지 상상이 안감',\n",
              "  'https://www.inven.co.kr/board/maple/5974/1593381?p=5&name=subject&keyword=6%EC%B0%A8&sterm=8430942'),\n",
              " ('6차나오면 파워인플레 오질텐데',\n",
              "  'https://www.inven.co.kr/board/maple/5974/1593378?p=5&name=subject&keyword=6%EC%B0%A8&sterm=8430942'),\n",
              " ('근데 궁금한게 운영진이 6차 떡밥 진지하게 던지긴 했음??',\n",
              "  'https://www.inven.co.kr/board/maple/5974/1593371?p=5&name=subject&keyword=6%EC%B0%A8&sterm=8430942'),\n",
              " ('6차 근들갑 떨지 말라는 얘들도 웃김',\n",
              "  'https://www.inven.co.kr/board/maple/5974/1593351?p=5&name=subject&keyword=6%EC%B0%A8&sterm=8430942'),\n",
              " ('이정도면 없는6차도 만들어내야할듯..',\n",
              "  'https://www.inven.co.kr/board/maple/5974/1593329?p=5&name=subject&keyword=6%EC%B0%A8&sterm=8430942'),\n",
              " ('아...네..6차 아니구요..네...',\n",
              "  'https://www.inven.co.kr/board/maple/5974/1593326?p=5&name=subject&keyword=6%EC%B0%A8&sterm=8430942'),\n",
              " ('6차 예고?',\n",
              "  'https://www.inven.co.kr/board/maple/5974/1593288?p=5&name=subject&keyword=6%EC%B0%A8&sterm=8430942'),\n",
              " ('6차 다이스',\n",
              "  'https://www.inven.co.kr/board/maple/5974/1593199?p=5&name=subject&keyword=6%EC%B0%A8&sterm=8430942'),\n",
              " ('6차전직말고',\n",
              "  'https://www.inven.co.kr/board/maple/5974/1593042?p=5&name=subject&keyword=6%EC%B0%A8&sterm=8430942'),\n",
              " ('ㅌㅍ) 6차안나오면 피시방점유율 몇퍼 예상함?',\n",
              "  'https://www.inven.co.kr/board/maple/5974/1593018?p=5&name=subject&keyword=6%EC%B0%A8&sterm=8430942'),\n",
              " ('6차때 티어떡상할만한 직업분명 있겠지?',\n",
              "  'https://www.inven.co.kr/board/maple/5974/1592972?p=5&name=subject&keyword=6%EC%B0%A8&sterm=8430942'),\n",
              " ('내가보긴 6차 안나올듯..',\n",
              "  'https://www.inven.co.kr/board/maple/5974/1592820?p=5&name=subject&keyword=6%EC%B0%A8&sterm=8430942'),\n",
              " ('근데 6차 안나올거 같은데',\n",
              "  'https://www.inven.co.kr/board/maple/5974/1592808?p=5&name=subject&keyword=6%EC%B0%A8&sterm=8430942'),\n",
              " ('6차가 270이든 280이든 겜 안망하니까 근들갑 ㄴㄴ',\n",
              "  'https://www.inven.co.kr/board/maple/5974/1592787?p=5&name=subject&keyword=6%EC%B0%A8&sterm=8430942'),\n",
              " ('6차는 도전목표가 되어야지 뉴비도 즐길 수준인건 반대함',\n",
              "  'https://www.inven.co.kr/board/maple/5974/1592777?p=5&name=subject&keyword=6%EC%B0%A8&sterm=8430942'),\n",
              " ('6차 거의 확정으로보는 분위기 아녓음? 오늘은분위기가',\n",
              "  'https://www.inven.co.kr/board/maple/5974/1592688?p=5&name=subject&keyword=6%EC%B0%A8&sterm=8430942'),\n",
              " ('6차 나올때까지 노말 진듄다니기 vs 하드 진듄 2인팟 가기',\n",
              "  'https://www.inven.co.kr/board/maple/5974/1592621?p=5&name=subject&keyword=6%EC%B0%A8&sterm=8430942'),\n",
              " ('근데 6차나오면 전직업 최종뎀 뻥튀기되서 보스컷 낮아지지않음?',\n",
              "  'https://www.inven.co.kr/board/maple/5974/1592612?p=5&name=subject&keyword=6%EC%B0%A8&sterm=8430942'),\n",
              " ('6차 왔냐',\n",
              "  'https://www.inven.co.kr/board/maple/5974/1592416?p=5&name=subject&keyword=6%EC%B0%A8&sterm=8430942'),\n",
              " ('6차 아니면 로드맵 유기하면 안되는거 아니야',\n",
              "  'https://www.inven.co.kr/board/maple/5974/1592147?p=5&name=subject&keyword=6%EC%B0%A8&sterm=8430942'),\n",
              " ('6차 나올 확률 높은 이유',\n",
              "  'https://www.inven.co.kr/board/maple/5974/1591503?p=5&name=subject&keyword=6%EC%B0%A8&sterm=8430942'),\n",
              " ('당연히 6차나오겠지 안나오면 진짜 쇼케분위기 어쩔건데;',\n",
              "  'https://www.inven.co.kr/board/maple/5974/1591208?p=5&name=subject&keyword=6%EC%B0%A8&sterm=8430942'),\n",
              " ('6차 뜬다',\n",
              "  'https://www.inven.co.kr/board/maple/5974/1591137?p=5&name=subject&keyword=6%EC%B0%A8&sterm=8430942'),\n",
              " ('6차 완성',\n",
              "  'https://www.inven.co.kr/board/maple/5974/1591126?p=5&name=subject&keyword=6%EC%B0%A8&sterm=8430942'),\n",
              " ('예...6차는...없고...',\n",
              "  'https://www.inven.co.kr/board/maple/5974/1591013?p=5&name=subject&keyword=6%EC%B0%A8&sterm=8430942'),\n",
              " ('광고에서 대놓고 6차떡밥뿌리는데 어떻게 해야하냐',\n",
              "  'https://www.inven.co.kr/board/maple/5974/1590697?p=5&name=subject&keyword=6%EC%B0%A8&sterm=8430942'),\n",
              " ('6차나와도 9월에나 나올듯',\n",
              "  'https://www.inven.co.kr/board/maple/5974/1590481?p=5&name=subject&keyword=6%EC%B0%A8&sterm=8430942'),\n",
              " ('뭐? 그래서 여름에 6차가 나온다고?',\n",
              "  'https://www.inven.co.kr/board/maple/5974/1590465?p=5&name=subject&keyword=6%EC%B0%A8&sterm=8430942'),\n",
              " ('6차 나와도 뉴비들은 못하니 다같이 즐겨야하니 마니....',\n",
              "  'https://www.inven.co.kr/board/maple/5974/1590252?p=5&name=subject&keyword=6%EC%B0%A8&sterm=8430942'),\n",
              " ('메벤 분위기 6차 기대 ㅈㄴ하다가 현타온거 개웃김',\n",
              "  'https://www.inven.co.kr/board/maple/5974/1590154?p=5&name=subject&keyword=6%EC%B0%A8&sterm=8430942'),\n",
              " ('6차코인조합',\n",
              "  'https://www.inven.co.kr/board/maple/5974/1590138?p=5&name=subject&keyword=6%EC%B0%A8&sterm=8430942'),\n",
              " ('그냥 여름 쇼케하고나면 할만한 게임정도가 되지 6차이런 혁신적인건 안나올듯..',\n",
              "  'https://www.inven.co.kr/board/maple/5974/1590128?p=5&name=subject&keyword=6%EC%B0%A8&sterm=8430942'),\n",
              " ('뭔가 이번 여름에 6차 언급은 할거같음',\n",
              "  'https://www.inven.co.kr/board/maple/5974/1590084?p=5&name=subject&keyword=6%EC%B0%A8&sterm=8430942'),\n",
              " ('6차스킬 직업끼리 연계하도록 만들면 재밌겠다',\n",
              "  'https://www.inven.co.kr/board/maple/5974/1590078?p=5&name=subject&keyword=6%EC%B0%A8&sterm=8430942')]"
            ]
          },
          "metadata": {},
          "execution_count": 47
        }
      ]
    },
    {
      "cell_type": "code",
      "source": [
        "len(result_list)"
      ],
      "metadata": {
        "colab": {
          "base_uri": "https://localhost:8080/"
        },
        "id": "OW-QboJMbSuJ",
        "outputId": "841e1fd0-9e1f-4750-8267-84c23c8a0765"
      },
      "execution_count": 37,
      "outputs": [
        {
          "output_type": "execute_result",
          "data": {
            "text/plain": [
              "70"
            ]
          },
          "metadata": {},
          "execution_count": 37
        }
      ]
    },
    {
      "cell_type": "code",
      "source": [
        "result_list[0][0]"
      ],
      "metadata": {
        "colab": {
          "base_uri": "https://localhost:8080/",
          "height": 34
        },
        "id": "2ax6Hnn3aFJ6",
        "outputId": "337dce98-e4e6-48ef-a779-95cfd8db50ed"
      },
      "execution_count": 38,
      "outputs": [
        {
          "output_type": "execute_result",
          "data": {
            "text/plain": [
              "'[수다]\\n                                                                                                            만약에 6차 나온다고 가정하면 이런 느낌 어떰??'"
            ],
            "application/vnd.google.colaboratory.intrinsic+json": {
              "type": "string"
            }
          },
          "metadata": {},
          "execution_count": 38
        }
      ]
    },
    {
      "cell_type": "code",
      "source": [
        "result_list"
      ],
      "metadata": {
        "colab": {
          "base_uri": "https://localhost:8080/"
        },
        "id": "rViNuWZVb1PZ",
        "outputId": "6aef0d7c-27e5-4611-c4fc-0af7bad600de"
      },
      "execution_count": 46,
      "outputs": [
        {
          "output_type": "execute_result",
          "data": {
            "text/plain": [
              "[('[수다]\\n                                                                                                            만약에 6차 나온다고 가정하면 이런 느낌 어떰??',\n",
              "  'https://www.inven.co.kr/board/maple/5974/1593762?p=5&name=subject&keyword=6%EC%B0%A8&sterm=8430942'),\n",
              " ('[수다]\\n                                                                                                            6차 나오면 좋긴한데',\n",
              "  'https://www.inven.co.kr/board/maple/5974/1593760?p=5&name=subject&keyword=6%EC%B0%A8&sterm=8430942'),\n",
              " ('[수다]\\n                                                                                                            6차 말고 이거뜨면 어떰?',\n",
              "  'https://www.inven.co.kr/board/maple/5974/1593740?p=5&name=subject&keyword=6%EC%B0%A8&sterm=8430942'),\n",
              " ('[수다]\\n                                                                                                            6차는 근데 낼때가 되기는 했는데',\n",
              "  'https://www.inven.co.kr/board/maple/5974/1593739?p=5&name=subject&keyword=6%EC%B0%A8&sterm=8430942'),\n",
              " ('[수다]\\n                                                                                                            만약에 6차급 패치 아니면 진짜 개자슥들이지',\n",
              "  'https://www.inven.co.kr/board/maple/5974/1593733?p=5&name=subject&keyword=6%EC%B0%A8&sterm=8430942'),\n",
              " ('[수다]\\n                                                                                                            6차 나와도 왜 겜은 그대로일거 같냐',\n",
              "  'https://www.inven.co.kr/board/maple/5974/1593723?p=5&name=subject&keyword=6%EC%B0%A8&sterm=8430942'),\n",
              " ('[수다]\\n                                                                                                            알고보니 6차전직이 아니라',\n",
              "  'https://www.inven.co.kr/board/maple/5974/1593717?p=5&name=subject&keyword=6%EC%B0%A8&sterm=8430942'),\n",
              " ('[수다]\\n                                                                                                            솔직히 6차 없을 거 같다고 말하면 욕먹으려나..',\n",
              "  'https://www.inven.co.kr/board/maple/5974/1593697?p=5&name=subject&keyword=6%EC%B0%A8&sterm=8430942'),\n",
              " ('[수다]\\n                                                                                                            6차 근데 생각없다 하지 않음??',\n",
              "  'https://www.inven.co.kr/board/maple/5974/1593691?p=5&name=subject&keyword=6%EC%B0%A8&sterm=8430942'),\n",
              " ('[수다]\\n                                                                                                            진짜 쇼케진행중 6차 안나오면',\n",
              "  'https://www.inven.co.kr/board/maple/5974/1593674?p=5&name=subject&keyword=6%EC%B0%A8&sterm=8430942'),\n",
              " ('[수다]\\n                                                                                                            쇼케 6차는 무조건 오지 않을까',\n",
              "  'https://www.inven.co.kr/board/maple/5974/1593654?p=5&name=subject&keyword=6%EC%B0%A8&sterm=8430942'),\n",
              " ('[수다]\\n                                                                                                            6차안나오니벤들갑그만',\n",
              "  'https://www.inven.co.kr/board/maple/5974/1593649?p=5&name=subject&keyword=6%EC%B0%A8&sterm=8430942'),\n",
              " ('[수다]\\n                                                                                                            6차고 뭐고 오늘kfc 1+1임',\n",
              "  'https://www.inven.co.kr/board/maple/5974/1593627?p=5&name=subject&keyword=6%EC%B0%A8&sterm=8430942'),\n",
              " ('[수다]\\n                                                                                                            이정도 어그로끌고 6차 안나오는거면',\n",
              "  'https://www.inven.co.kr/board/maple/5974/1593614?p=5&name=subject&keyword=6%EC%B0%A8&sterm=8430942'),\n",
              " ('[수다]\\n                                                                                                            6차 전직 무조건 나와줍시다',\n",
              "  'https://www.inven.co.kr/board/maple/5974/1593613?p=5&name=subject&keyword=6%EC%B0%A8&sterm=8430942'),\n",
              " ('[수다]\\n                                                                                                            6차 나오든 안나오든 존나 기대되면 개추ㅋㅋㅋㅋ',\n",
              "  'https://www.inven.co.kr/board/maple/5974/1593602?p=5&name=subject&keyword=6%EC%B0%A8&sterm=8430942'),\n",
              " ('[수다]\\n                                                                                                            이번 쇼케에서 6차 출시 계획 말하거나 출시하는거 정배아님?',\n",
              "  'https://www.inven.co.kr/board/maple/5974/1593548?p=5&name=subject&keyword=6%EC%B0%A8&sterm=8430942'),\n",
              " ('[수다]\\n                                                                                                            테마송 나오면서 뒤에 영상으로 6차 나오겠네',\n",
              "  'https://www.inven.co.kr/board/maple/5974/1593516?p=5&name=subject&keyword=6%EC%B0%A8&sterm=8430942'),\n",
              " ('[수다]\\n                                                                                                            6차 선행퀘 뭘까..?',\n",
              "  'https://www.inven.co.kr/board/maple/5974/1593505?p=5&name=subject&keyword=6%EC%B0%A8&sterm=8430942'),\n",
              " ('[수다]\\n                                                                                                            ㅌㅍ) 6차뜨기 VS 돼지국밥에 공기밥 말아 국물까지 뚝딱하기',\n",
              "  'https://www.inven.co.kr/board/maple/5974/1593503?p=5&name=subject&keyword=6%EC%B0%A8&sterm=8430942'),\n",
              " ('[수다]\\n                                                                                                            ??? : 6차 검토해 보겠습니다.',\n",
              "  'https://www.inven.co.kr/board/maple/5974/1593504?p=5&name=subject&keyword=6%EC%B0%A8&sterm=8430942'),\n",
              " ('[수다]\\n                                                                                                            6차라이팅 당했나',\n",
              "  'https://www.inven.co.kr/board/maple/5974/1593497?p=5&name=subject&keyword=6%EC%B0%A8&sterm=8430942'),\n",
              " ('[수다]\\n                                                                                                            6월10일에 6차 나온다고 발표하고, 겨울에 적용 된다하면 어쩌냐??',\n",
              "  'https://www.inven.co.kr/board/maple/5974/1593490?p=5&name=subject&keyword=6%EC%B0%A8&sterm=8430942'),\n",
              " ('[수다]\\n                                                                                                            원기라면 리마스터아까워서 6차도 주력기 대체안할거같음',\n",
              "  'https://www.inven.co.kr/board/maple/5974/1593486?p=5&name=subject&keyword=6%EC%B0%A8&sterm=8430942'),\n",
              " ('[수다]\\n                                                                                                            솔직히 6차가 정배라서 예고만하면 실망할거같음',\n",
              "  'https://www.inven.co.kr/board/maple/5974/1593484?p=5&name=subject&keyword=6%EC%B0%A8&sterm=8430942'),\n",
              " ('[수다]\\n                                                                                                            어차피 6차 안나와도 \"기다려\" 당할 메붕이들인데',\n",
              "  'https://www.inven.co.kr/board/maple/5974/1593471?p=5&name=subject&keyword=6%EC%B0%A8&sterm=8430942'),\n",
              " ('[수다]\\n                                                                                                            6차가 작년에 나왔어야했는데 Live땜에 밀린거 아닐까?',\n",
              "  'https://www.inven.co.kr/board/maple/5974/1593447?p=5&name=subject&keyword=6%EC%B0%A8&sterm=8430942'),\n",
              " ('[수다]\\n                                                                                                            쇼케때 잠재 4줄된다하면 6차보다 떡상?',\n",
              "  'https://www.inven.co.kr/board/maple/5974/1593433?p=5&name=subject&keyword=6%EC%B0%A8&sterm=8430942'),\n",
              " ('[수다]\\n                                                                                                            Savior때 6차 내려다 개발지연되서 웡스토랑 땜빵했을 확률',\n",
              "  'https://www.inven.co.kr/board/maple/5974/1593430?p=5&name=subject&keyword=6%EC%B0%A8&sterm=8430942'),\n",
              " ('[수다]\\n                                                                                                            아무리 생각해봐도 6차는 말이 안됨',\n",
              "  'https://www.inven.co.kr/board/maple/5974/1593416?p=5&name=subject&keyword=6%EC%B0%A8&sterm=8430942'),\n",
              " ('[수다]\\n                                                                                                            6차가 아니라 6중나생문 추가면 어캄ㅇㅇ....',\n",
              "  'https://www.inven.co.kr/board/maple/5974/1593402?p=5&name=subject&keyword=6%EC%B0%A8&sterm=8430942'),\n",
              " ('[수다]\\n                                                                                                            이번 쇼케 6차 맞는이유',\n",
              "  'https://www.inven.co.kr/board/maple/5974/1593392?p=5&name=subject&keyword=6%EC%B0%A8&sterm=8430942'),\n",
              " ('[수다]\\n                                                                                                            6차를 스킬 통합형으로 만들어서',\n",
              "  'https://www.inven.co.kr/board/maple/5974/1593388?p=5&name=subject&keyword=6%EC%B0%A8&sterm=8430942'),\n",
              " ('[수다]\\n                                                                                                            6차 너무 기대된다!!',\n",
              "  'https://www.inven.co.kr/board/maple/5974/1593387?p=5&name=subject&keyword=6%EC%B0%A8&sterm=8430942'),\n",
              " ('[수다]\\n                                                                                                            근데 모든게 6차를 암시하긴 하는데',\n",
              "  'https://www.inven.co.kr/board/maple/5974/1593385?p=5&name=subject&keyword=6%EC%B0%A8&sterm=8430942'),\n",
              " ('[수다]\\n                                                                                                            6차 솔직히 기대가 안됨',\n",
              "  'https://www.inven.co.kr/board/maple/5974/1593384?p=5&name=subject&keyword=6%EC%B0%A8&sterm=8430942'),\n",
              " ('[수다]\\n                                                                                                            근데 6차 어떻게 나올지 상상이 안감',\n",
              "  'https://www.inven.co.kr/board/maple/5974/1593381?p=5&name=subject&keyword=6%EC%B0%A8&sterm=8430942'),\n",
              " ('[수다]\\n                                                                                                            6차나오면 파워인플레 오질텐데',\n",
              "  'https://www.inven.co.kr/board/maple/5974/1593378?p=5&name=subject&keyword=6%EC%B0%A8&sterm=8430942'),\n",
              " ('[수다]\\n                                                                                                            근데 궁금한게 운영진이 6차 떡밥 진지하게 던지긴 했음??',\n",
              "  'https://www.inven.co.kr/board/maple/5974/1593371?p=5&name=subject&keyword=6%EC%B0%A8&sterm=8430942'),\n",
              " ('[수다]\\n                                                                                                            6차 근들갑 떨지 말라는 얘들도 웃김',\n",
              "  'https://www.inven.co.kr/board/maple/5974/1593351?p=5&name=subject&keyword=6%EC%B0%A8&sterm=8430942'),\n",
              " ('[수다]\\n                                                                                                            이정도면 없는6차도 만들어내야할듯..',\n",
              "  'https://www.inven.co.kr/board/maple/5974/1593329?p=5&name=subject&keyword=6%EC%B0%A8&sterm=8430942'),\n",
              " ('[수다]\\n                                                                                                            아...네..6차 아니구요..네...',\n",
              "  'https://www.inven.co.kr/board/maple/5974/1593326?p=5&name=subject&keyword=6%EC%B0%A8&sterm=8430942'),\n",
              " ('[수다]\\n                                                                                                            6차 예고?',\n",
              "  'https://www.inven.co.kr/board/maple/5974/1593288?p=5&name=subject&keyword=6%EC%B0%A8&sterm=8430942'),\n",
              " ('[수다]\\n                                                                                                            6차 다이스',\n",
              "  'https://www.inven.co.kr/board/maple/5974/1593199?p=5&name=subject&keyword=6%EC%B0%A8&sterm=8430942'),\n",
              " ('[수다]\\n                                                                                                            6차전직말고',\n",
              "  'https://www.inven.co.kr/board/maple/5974/1593042?p=5&name=subject&keyword=6%EC%B0%A8&sterm=8430942'),\n",
              " ('[수다]\\n                                                                                                            ㅌㅍ) 6차안나오면 피시방점유율 몇퍼 예상함?',\n",
              "  'https://www.inven.co.kr/board/maple/5974/1593018?p=5&name=subject&keyword=6%EC%B0%A8&sterm=8430942'),\n",
              " ('[수다]\\n                                                                                                            6차때 티어떡상할만한 직업분명 있겠지?',\n",
              "  'https://www.inven.co.kr/board/maple/5974/1592972?p=5&name=subject&keyword=6%EC%B0%A8&sterm=8430942'),\n",
              " ('[수다]\\n                                                                                                            내가보긴 6차 안나올듯..',\n",
              "  'https://www.inven.co.kr/board/maple/5974/1592820?p=5&name=subject&keyword=6%EC%B0%A8&sterm=8430942'),\n",
              " ('[수다]\\n                                                                                                            근데 6차 안나올거 같은데',\n",
              "  'https://www.inven.co.kr/board/maple/5974/1592808?p=5&name=subject&keyword=6%EC%B0%A8&sterm=8430942'),\n",
              " ('[수다]\\n                                                                                                            6차가 270이든 280이든 겜 안망하니까 근들갑 ㄴㄴ',\n",
              "  'https://www.inven.co.kr/board/maple/5974/1592787?p=5&name=subject&keyword=6%EC%B0%A8&sterm=8430942'),\n",
              " ('[수다]\\n                                                                                                            6차는 도전목표가 되어야지 뉴비도 즐길 수준인건 반대함',\n",
              "  'https://www.inven.co.kr/board/maple/5974/1592777?p=5&name=subject&keyword=6%EC%B0%A8&sterm=8430942'),\n",
              " ('[수다]\\n                                                                                                            6차 거의 확정으로보는 분위기 아녓음? 오늘은분위기가',\n",
              "  'https://www.inven.co.kr/board/maple/5974/1592688?p=5&name=subject&keyword=6%EC%B0%A8&sterm=8430942'),\n",
              " ('[수다]\\n                                                                                                            6차 나올때까지 노말 진듄다니기 vs 하드 진듄 2인팟 가기',\n",
              "  'https://www.inven.co.kr/board/maple/5974/1592621?p=5&name=subject&keyword=6%EC%B0%A8&sterm=8430942'),\n",
              " ('[수다]\\n                                                                                                            근데 6차나오면 전직업 최종뎀 뻥튀기되서 보스컷 낮아지지않음?',\n",
              "  'https://www.inven.co.kr/board/maple/5974/1592612?p=5&name=subject&keyword=6%EC%B0%A8&sterm=8430942'),\n",
              " ('[수다]\\n                                                                                                            6차 왔냐',\n",
              "  'https://www.inven.co.kr/board/maple/5974/1592416?p=5&name=subject&keyword=6%EC%B0%A8&sterm=8430942'),\n",
              " ('[수다]\\n                                                                                                            6차 아니면 로드맵 유기하면 안되는거 아니야',\n",
              "  'https://www.inven.co.kr/board/maple/5974/1592147?p=5&name=subject&keyword=6%EC%B0%A8&sterm=8430942'),\n",
              " ('[수다]\\n                                                                                                            6차 나올 확률 높은 이유',\n",
              "  'https://www.inven.co.kr/board/maple/5974/1591503?p=5&name=subject&keyword=6%EC%B0%A8&sterm=8430942'),\n",
              " ('[수다]\\n                                                                                                            당연히 6차나오겠지 안나오면 진짜 쇼케분위기 어쩔건데;',\n",
              "  'https://www.inven.co.kr/board/maple/5974/1591208?p=5&name=subject&keyword=6%EC%B0%A8&sterm=8430942'),\n",
              " ('[수다]\\n                                                                                                            6차 뜬다',\n",
              "  'https://www.inven.co.kr/board/maple/5974/1591137?p=5&name=subject&keyword=6%EC%B0%A8&sterm=8430942'),\n",
              " ('[수다]\\n                                                                                                            6차 완성',\n",
              "  'https://www.inven.co.kr/board/maple/5974/1591126?p=5&name=subject&keyword=6%EC%B0%A8&sterm=8430942'),\n",
              " ('[수다]\\n                                                                                                            예...6차는...없고...',\n",
              "  'https://www.inven.co.kr/board/maple/5974/1591013?p=5&name=subject&keyword=6%EC%B0%A8&sterm=8430942'),\n",
              " ('[수다]\\n                                                                                                            광고에서 대놓고 6차떡밥뿌리는데 어떻게 해야하냐',\n",
              "  'https://www.inven.co.kr/board/maple/5974/1590697?p=5&name=subject&keyword=6%EC%B0%A8&sterm=8430942'),\n",
              " ('[수다]\\n                                                                                                            6차나와도 9월에나 나올듯',\n",
              "  'https://www.inven.co.kr/board/maple/5974/1590481?p=5&name=subject&keyword=6%EC%B0%A8&sterm=8430942'),\n",
              " ('[수다]\\n                                                                                                            뭐? 그래서 여름에 6차가 나온다고?',\n",
              "  'https://www.inven.co.kr/board/maple/5974/1590465?p=5&name=subject&keyword=6%EC%B0%A8&sterm=8430942'),\n",
              " ('[수다]\\n                                                                                                            6차 나와도 뉴비들은 못하니 다같이 즐겨야하니 마니....',\n",
              "  'https://www.inven.co.kr/board/maple/5974/1590252?p=5&name=subject&keyword=6%EC%B0%A8&sterm=8430942'),\n",
              " ('[수다]\\n                                                                                                            메벤 분위기 6차 기대 ㅈㄴ하다가 현타온거 개웃김',\n",
              "  'https://www.inven.co.kr/board/maple/5974/1590154?p=5&name=subject&keyword=6%EC%B0%A8&sterm=8430942'),\n",
              " ('[수다]\\n                                                                                                            6차코인조합',\n",
              "  'https://www.inven.co.kr/board/maple/5974/1590138?p=5&name=subject&keyword=6%EC%B0%A8&sterm=8430942'),\n",
              " ('[수다]\\n                                                                                                            그냥 여름 쇼케하고나면 할만한 게임정도가 되지 6차이런 혁신적인건 안나올듯..',\n",
              "  'https://www.inven.co.kr/board/maple/5974/1590128?p=5&name=subject&keyword=6%EC%B0%A8&sterm=8430942'),\n",
              " ('[수다]\\n                                                                                                            뭔가 이번 여름에 6차 언급은 할거같음',\n",
              "  'https://www.inven.co.kr/board/maple/5974/1590084?p=5&name=subject&keyword=6%EC%B0%A8&sterm=8430942'),\n",
              " ('[수다]\\n                                                                                                            6차스킬 직업끼리 연계하도록 만들면 재밌겠다',\n",
              "  'https://www.inven.co.kr/board/maple/5974/1590078?p=5&name=subject&keyword=6%EC%B0%A8&sterm=8430942')]"
            ]
          },
          "metadata": {},
          "execution_count": 46
        }
      ]
    },
    {
      "cell_type": "code",
      "source": [],
      "metadata": {
        "id": "3ms3nKuQcFJT"
      },
      "execution_count": null,
      "outputs": []
    }
  ]
}
